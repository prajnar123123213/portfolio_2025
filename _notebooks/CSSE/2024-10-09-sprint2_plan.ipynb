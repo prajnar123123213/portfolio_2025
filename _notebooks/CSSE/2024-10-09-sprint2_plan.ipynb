{
 "cells": [
  {
   "cell_type": "raw",
   "metadata": {
    "vscode": {
     "languageId": "raw"
    }
   },
   "source": [
    "---\n",
    "layout: post\n",
    "title: Sprint 2 - CSSE Objectives \n",
    "description:  Student Teach and Software Development Objectives for Sprint 2\n",
    "type: issues \n",
    "courses: { csse: {week: 4} }\n",
    "comments: true\n",
    "---"
   ]
  },
  {
   "cell_type": "markdown",
   "metadata": {},
   "source": [
    "## Issues\n",
    "Teacher and Self evaluation are critical to our success and improvements.   Be sure to add evidence."
   ]
  },
  {
   "cell_type": "markdown",
   "metadata": {},
   "source": [
    "### JavaScript starters\n",
    "\n",
    "#### Grade Rank\n",
    "- .55 is minimum per item\n",
    "- .75 is mostly done\n",
    "- .85 is complete\n",
    "- .90 is maximum perfection\n",
    "\n",
    "\n",
    "#### Raw Form for Review Ticket\n",
    "\n",
    "```text\n",
    "| **Assignment**             | **Points**    | **Grade** | **Evidence** |\n",
    "|----------------------------|---------------|-----------|--------------|\n",
    "| JSON Object & Arrays       | 1             |           |              |\n",
    "| Input and Output           | 1             |           |              |\n",
    "| Data Types                 | 1             |           |              |\n",
    "| Square and Red Squares     | 2             |           |              |\n",
    "| Game Work                  | 2             |           |              |\n",
    "| Total                      | 7             |           |              |\n",
    "\n",
    "\n",
    "| **Skill**                  | **Points**    | **Grade** | **Evidence** |\n",
    "|----------------------------|---------------|-----------|--------------|\n",
    "| Work Habits (Analytics)    | 1             |           |              |\n",
    "| Advocacy                   | 1             |           |              |\n",
    "| Beyond Perfunctory Memory  | 1             |           |              | \n",
    "| Total                      | 3             |           |              |\n",
    "```"
   ]
  }
 ],
 "metadata": {
  "language_info": {
   "name": "python"
  }
 },
 "nbformat": 4,
 "nbformat_minor": 2
}
