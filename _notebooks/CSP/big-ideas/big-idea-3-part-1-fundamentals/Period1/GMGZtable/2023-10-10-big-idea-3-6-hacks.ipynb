{
 "cells": [
  {
   "cell_type": "raw",
   "metadata": {
    "vscode": {
     "languageId": "raw"
    }
   },
   "source": [
    "---\n",
    "toc: false\n",
    "comments: true\n",
    "layout: post\n",
    "title: 3.6 Mastering Conditionals - Hacks\n",
    "description: Student led teaching on Conditionals. Learn how conditionals control the flow of a program by executing specific blocks of code under certain conditions.\n",
    "permalink: /csp/big-idea/3-6/p1/hacks\n",
    "categories: [CSP Big Ideas]\n",
    "author: Gavin, Gyutae, Marti, Zaid\n",
    "menu: nav/csp_units/csp_unit3_p1_fundamentals.html\n",
    "---"
   ]
  },
  {
   "cell_type": "markdown",
   "metadata": {},
   "source": [
    "## Hacks"
   ]
  },
  {
   "cell_type": "code",
   "execution_count": null,
   "metadata": {},
   "outputs": [],
   "source": [
    "# Import necessary modules\n",
    "import sys  # Module to access system-related information\n",
    "\n",
    "# Function to ask a theoretical question and get a response\n",
    "def question_with_response(prompt):\n",
    "    answer = input(prompt)\n",
    "    return answer\n",
    "\n",
    "# Define the number of questions and initialize the correct answers counter\n",
    "questions = 5\n",
    "correct = 0\n",
    "\n",
    "# Personalized greeting message\n",
    "user_name = question_with_response(\"Enter your name: \")\n",
    "print('Hello, ' + user_name + \" you are running \" + sys.executable)\n",
    "ready = question_with_response(\"Are you ready to take a test on conditionals? (yes/no): \")\n",
    "\n",
    "# Question 1: Basic Conditional Theory\n",
    "q1 = question_with_response(\"1. What keyword is used in Python to check a condition? (a) for (b) if (c) while: \")\n",
    "if q1.lower() == \"b\":\n",
    "    print(\"Correct!\")\n",
    "    correct += 1\n",
    "else:\n",
    "    print(\"Incorrect. The correct answer is (b) if.\")\n",
    "\n",
    "# Question 2: `else` Statement\n",
    "q2 = question_with_response(\"2. What happens if an `if` condition is false and there is an `else` block? (a) The program does nothing (b) The `else` block runs (c) An error occurs: \")\n",
    "if q2.lower() == \"b\":\n",
    "    print(\"Correct!\")\n",
    "    correct += 1\n",
    "else:\n",
    "    print(\"Incorrect. The correct answer is (b) The `else` block runs.\")\n",
    "\n",
    "# Question 3: `elif` Statement\n",
    "q3 = question_with_response(\"3. What is the purpose of the `elif` keyword in Python? (a) It checks another condition if the previous one was false (b) It ends the program (c) It only runs if the `if` block runs: \")\n",
    "if q3.lower() == \"a\":\n",
    "    print(\"Correct!\")\n",
    "    correct += 1\n",
    "else:\n",
    "    print(\"Incorrect. The correct answer is (a) It checks another condition if the previous one was false.\")\n",
    "\n",
    "# Question 4: Boolean Expressions\n",
    "q4 = question_with_response(\"4. Which of the following is a correct Boolean expression in an `if` statement? (a) if 5 > 3 (b) if 'text' (c) if == 10: \")\n",
    "if q4.lower() == \"a\":\n",
    "    print(\"Correct!\")\n",
    "    correct += 1\n",
    "else:\n",
    "    print(\"Incorrect. The correct answer is (a) if 5 > 3.\")\n",
    "\n",
    "# Question 5: Nested Conditionals\n",
    "q5 = question_with_response(\"5. 3.7 Preview! What is a nested conditional? (a) An `if` statement inside another `if` statement (b) An `else` block that runs without conditions (c) A loop inside a conditional: \")\n",
    "if q5.lower() == \"a\":\n",
    "    print(\"Correct!\")\n",
    "    correct += 1\n",
    "else:\n",
    "    print(\"Incorrect. The correct answer is (a) An `if` statement inside another `if` statement.\")\n",
    "\n",
    "# Display the final score\n",
    "print(user_name + \", you scored \" + str(correct) + \"/\" + str(questions))"
   ]
  },
  {
   "cell_type": "markdown",
   "metadata": {},
   "source": [
    "# Homework Hack\n",
    "Write a Python program that takes two numbers as input from the user. The program should:\n",
    "\n",
    "- Determine if the numbers are equal.\n",
    "- If the numbers are different, print which number is larger."
   ]
  },
  {
   "cell_type": "markdown",
   "metadata": {},
   "source": [
    "## Answer:\n",
    "<a href=\"{{site.baseurl}}/csp/big-idea/3-6/p1/solution\">See an example solution</a>"
   ]
  }
 ],
 "metadata": {
  "kernelspec": {
   "display_name": "Python 3",
   "language": "python",
   "name": "python3"
  },
  "language_info": {
   "codemirror_mode": {
    "name": "ipython",
    "version": 3
   },
   "file_extension": ".py",
   "mimetype": "text/x-python",
   "name": "python",
   "nbconvert_exporter": "python",
   "pygments_lexer": "ipython3",
   "version": "3.11.9"
  }
 },
 "nbformat": 4,
 "nbformat_minor": 2
}
