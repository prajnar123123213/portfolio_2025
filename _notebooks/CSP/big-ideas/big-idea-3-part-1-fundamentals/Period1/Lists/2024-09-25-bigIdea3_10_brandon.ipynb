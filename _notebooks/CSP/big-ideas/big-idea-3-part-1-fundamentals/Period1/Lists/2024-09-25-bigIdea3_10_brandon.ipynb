{
 "cells": [
  {
   "cell_type": "raw",
   "metadata": {
    "vscode": {
     "languageId": "raw"
    }
   },
   "source": [
    "---\n",
    "layout: post\n",
    "title: Big Idea 3.10 Part 4- Pseudocode\n",
    "description: Learn more about lists\n",
    "type: hacks\n",
    "toc: False\n",
    "comments: True\n",
    "author: Brandon\n",
    "permalink: /csp/big-idea/p1/3-10-4\n",
    "menu: nav/csp_units/csp_unit3_p1_fundamentals.html\n",
    "---"
   ]
  },
  {
   "cell_type": "markdown",
   "metadata": {},
   "source": [
    "\n",
    "<style>\n",
    "  h1 {\n",
    "    animation: glow 1s ease-in-out infinite alternate;\n",
    "  }\n",
    "</style>\n",
    "\n",
    "<style>\n",
    "@keyframes glow {\n",
    "  from {\n",
    "    text-shadow: 0 0 5px #e3768a, 0 0 10px #ae76e3, 0 0 15px #7d76e3, 0 0 20px #6385cf;\n",
    "  }\n",
    "  to {\n",
    "    text-shadow: 0 0 20px #6385cf, 0 0 30px #7d76e3, 0 0 40px #ae76e3, 0 0 50px #e3768a;\n",
    "  }\n",
    "}\n",
    "</style>\n",
    "\n",
    "\n",
    "<style>\n",
    ":root {\n",
    "    --light-pink: #e0b4d4;\n",
    "    --medium-pink: #4a5a94;\n",
    "    --dark-pink: #302e63;\n",
    "    --accent-pink: #ff99cc;\n",
    "    --background-pink: #ffe6f0;\n",
    "}\n",
    "\n",
    "body {\n",
    "    color: var(--dark-pink) !important;\n",
    "}\n",
    "\n",
    "article {\n",
    "    background-color: var(--light-pink) !important;\n",
    "    color: var(--dark-pink) !important;\n",
    "    border: 2px solid var(--medium-pink) !important;\n",
    "    padding: 20px !important;\n",
    "    border-radius: 8px !important;\n",
    "}\n",
    "\n",
    "a {\n",
    "    color: var(--accent-pink) !important;\n",
    "}\n",
    "\n",
    "a:hover {\n",
    "    color: var(--light-pink) !important;\n",
    "}\n",
    "\n",
    "h1, h2, h3, h4 {\n",
    "    color: white !important;\n",
    "}\n",
    "\n",
    "blockquote {\n",
    "    background-color: #272726 !important;\n",
    "    color: var(--dark-pink) !important;\n",
    "    padding: 10px 20px !important;\n",
    "    margin: 10px 0 !important;\n",
    "    border-radius: 4px !important;\n",
    "}\n",
    "\n",
    "code {\n",
    "    background-color: var(--medium-pink) !important;\n",
    "    color: white !important;\n",
    "    padding: 2px 4px !important;\n",
    "    border-radius: 4px !important;\n",
    "}\n",
    "\n",
    "table td {\n",
    "    background-color: var(--dark-pink) !important;\n",
    "}\n",
    "</style>"
   ]
  },
  {
   "cell_type": "markdown",
   "metadata": {},
   "source": [
    "## Find the minimum value in a list\n",
    "- Create or access the list.\n",
    "- Make a variable to hold the minimum and set it to a potential minimum value.\n",
    "- Loop through the list.\n",
    "- Check each element to see if it is less than the minimum variable.\n",
    "- If the element is less than the minimum variable, update the minimum.\n",
    "- After all elements of the list have been checked, display the minimum value."
   ]
  },
  {
   "cell_type": "markdown",
   "metadata": {},
   "source": [
    "## Pseudocode"
   ]
  },
  {
   "cell_type": "markdown",
   "metadata": {},
   "source": [
    "nums ← [65, 89, 92, 35, 84, 78, 28, 75]\n",
    "min ← nums [1]\n",
    "FOR EACH score IN nums:\n",
    "{\n",
    "   IF(score < min)\n",
    "   {  \n",
    "       min = score\n",
    "   }\n",
    "}\n",
    "DISPLAY (min)"
   ]
  },
  {
   "cell_type": "markdown",
   "metadata": {},
   "source": [
    "## Sum of Even Numbers of a list"
   ]
  },
  {
   "cell_type": "code",
   "execution_count": null,
   "metadata": {},
   "outputs": [],
   "source": [
    "# Python\n",
    "\n",
    "nums = [1, 2, 3, 4, 5, 6, 7, 8, 9, 10]\n",
    "even_sum = 0\n",
    "for score in nums:\n",
    "   if score % 2 == 0: # Check if the remainder when divided by 2 is 0 (even number)\n",
    "       even_sum += score # If previous requirement is fulfilled, add to sum\n",
    "print(\"Sum of even numbers in the list:\", even_sum)"
   ]
  },
  {
   "cell_type": "code",
   "execution_count": null,
   "metadata": {
    "vscode": {
     "languageId": "javascript"
    }
   },
   "outputs": [],
   "source": [
    "%%js\n",
    "// Javascript\n",
    "\n",
    "let nums = [1, 2, 3, 4, 5, 6, 7, 8, 9, 10];\n",
    "let even_sum = 0;\n",
    "\n",
    "for (let score of nums) {\n",
    "   if (score % 2 === 0) {\n",
    "       even_sum += score; // Add score to even_sum if it's even\n",
    "   }\n",
    "}\n",
    "\n",
    "console.log(\"Sum of even numbers in the list:\", even_sum);"
   ]
  },
  {
   "cell_type": "markdown",
   "metadata": {},
   "source": [
    "## Homework\n",
    "- Find the sum of even numbers in a list\n",
    "- Find the minimum and maximum values in a list"
   ]
  },
  {
   "cell_type": "markdown",
   "metadata": {},
   "source": [
    "\n",
    "<style>\n",
    "  h1 {\n",
    "    animation: glow 1s ease-in-out infinite alternate;\n",
    "  }\n",
    "</style>\n",
    "\n",
    "<style>\n",
    "@keyframes glow {\n",
    "  from {\n",
    "    text-shadow: 0 0 5px #e3768a, 0 0 10px #ae76e3, 0 0 15px #7d76e3, 0 0 20px #6385cf;\n",
    "  }\n",
    "  to {\n",
    "    text-shadow: 0 0 20px #6385cf, 0 0 30px #7d76e3, 0 0 40px #ae76e3, 0 0 50px #e3768a;\n",
    "  }\n",
    "}\n",
    "</style>\n",
    "\n",
    "\n",
    "<style>\n",
    ":root {\n",
    "    --light-pink: #e0b4d4;\n",
    "    --medium-pink: #4a5a94;\n",
    "    --dark-pink: #302e63;\n",
    "    --accent-pink: #ff99cc;\n",
    "    --background-pink: #ffe6f0;\n",
    "}\n",
    "\n",
    "body {\n",
    "    color: var(--dark-pink) !important;\n",
    "}\n",
    "\n",
    "article {\n",
    "    background-color: var(--light-pink) !important;\n",
    "    color: var(--dark-pink) !important;\n",
    "    border: 2px solid var(--medium-pink) !important;\n",
    "    padding: 20px !important;\n",
    "    border-radius: 8px !important;\n",
    "}\n",
    "\n",
    "a {\n",
    "    color: var(--accent-pink) !important;\n",
    "}\n",
    "\n",
    "a:hover {\n",
    "    color: var(--light-pink) !important;\n",
    "}\n",
    "\n",
    "h1, h2, h3, h4 {\n",
    "    color: white !important;\n",
    "}\n",
    "\n",
    "blockquote {\n",
    "    background-color: #272726 !important;\n",
    "    color: var(--dark-pink) !important;\n",
    "    padding: 10px 20px !important;\n",
    "    margin: 10px 0 !important;\n",
    "    border-radius: 4px !important;\n",
    "}\n",
    "\n",
    "code {\n",
    "    background-color: var(--medium-pink) !important;\n",
    "    color: white !important;\n",
    "    padding: 2px 4px !important;\n",
    "    border-radius: 4px !important;\n",
    "}\n",
    "\n",
    "table td {\n",
    "    background-color: var(--dark-pink) !important;\n",
    "}\n",
    "</style>"
   ]
  }
 ],
 "metadata": {
  "language_info": {
   "name": "python"
  }
 },
 "nbformat": 4,
 "nbformat_minor": 2
}
