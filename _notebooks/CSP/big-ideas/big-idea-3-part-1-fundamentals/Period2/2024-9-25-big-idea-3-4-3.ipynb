{
 "cells": [
  {
   "cell_type": "raw",
   "metadata": {
    "vscode": {
     "languageId": "raw"
    }
   },
   "source": [
    "---\n",
    "layout: post\n",
    "title: 3.4 Strings\n",
    "description: Creating a lesson by using Javascript. \n",
    "categories: [Python, Javascript]\n",
    "permalink: /csp/big-idea/p2/3-4-3\n",
    "menu: nav/csp_units/csp_unit3_p2_fundamentals.html\n",
    "author: Keerthan\n",
    "toc: true\n",
    "comments: true\n",
    "---"
   ]
  },
  {
   "cell_type": "code",
   "execution_count": 3,
   "metadata": {
    "vscode": {
     "languageId": "javascript"
    }
   },
   "outputs": [
    {
     "data": {
      "application/javascript": "<!-- Heading -->\n<h1 style=\"color: white; font-family: Arial, sans-serif; background-color: black;\">Strings in Java</h1>\n\n\n<!-- Explanation Section -->\n<p style=\"font-family: Arial, sans-serif; line-height: 1.6; color: white; background-color: black;\">\nA <strong>string</strong> is an ordered sequence of characters. In programming, a string can contain letters, numbers, spaces, and even special characters. Strings are used to represent text in many programming languages.\n</p>\n\n\n<p style=\"font-family: Arial, sans-serif; line-height: 1.6; color: white; background-color: black;\">\nStrings can also have procedures and methods that perform operations like finding their length, combining multiple strings (concatenation), or extracting parts of them (substrings).\n</p>\n\n\n<!-- len() Example -->\n<h3 style=\"font-family: Arial, sans-serif; color: white; background-color: black;\">\nExample 1: Finding the Length of a String using <code>length()</code> in Java\n</h3>\n<p style=\"font-family: Arial, sans-serif; color: white; background-color: black;\">\nIn Java, we can use the <code style=\"background-color: black; color: white;\">length()</code> method to find out how many characters a string contains. This includes letters, spaces, and numbers.\n</p>\n\n\n<pre style=\"background-color: black; padding: 10px; border-radius: 4px; color: white;\">\n<code>\npublic class StringLengthExample {\npublic static void main(String[] args) {\nString example = \"APCSP\";\n// Finding the length of the string\nint length = example.length();\n\n// Output the result\nSystem.out.println(\"The length of the string \\\"APCSP\\\" is: \" + length);\n}\n}\n</code>\n</pre>\n\n\n<p style=\"font-family: Arial, sans-serif; color: white; background-color: black;\">\nIn this example, <code style=\"background-color: black; color: white;\">part1 + part2</code> merges the strings <code style=\"background-color: black; color: white;\">\"AP\"</code> and <code style=\"background-color: black; color: white;\">\"CSP\"</code> into one string, resulting in <code style=\"background-color: black; color: white;\">\"APCSP\"</code>.\n</p>\n",
      "text/plain": [
       "<IPython.core.display.Javascript object>"
      ]
     },
     "metadata": {},
     "output_type": "display_data"
    }
   ],
   "source": [
    "%%js\n",
    "<!-- Heading -->\n",
    "<h1 style=\"color: white; font-family: Arial, sans-serif; background-color: black;\">Strings in Java</h1>\n",
    "\n",
    "\n",
    "<!-- Explanation Section -->\n",
    "<p style=\"font-family: Arial, sans-serif; line-height: 1.6; color: white; background-color: black;\">\n",
    "A <strong>string</strong> is an ordered sequence of characters. In programming, a string can contain letters, numbers, spaces, and even special characters. Strings are used to represent text in many programming languages.\n",
    "</p>\n",
    "\n",
    "\n",
    "<p style=\"font-family: Arial, sans-serif; line-height: 1.6; color: white; background-color: black;\">\n",
    "Strings can also have procedures and methods that perform operations like finding their length, combining multiple strings (concatenation), or extracting parts of them (substrings).\n",
    "</p>\n",
    "\n",
    "\n",
    "<!-- len() Example -->\n",
    "<h3 style=\"font-family: Arial, sans-serif; color: white; background-color: black;\">\n",
    "Example 1: Finding the Length of a String using <code>length()</code> in Java\n",
    "</h3>\n",
    "<p style=\"font-family: Arial, sans-serif; color: white; background-color: black;\">\n",
    "In Java, we can use the <code style=\"background-color: black; color: white;\">length()</code> method to find out how many characters a string contains. This includes letters, spaces, and numbers.\n",
    "</p>\n",
    "\n",
    "\n",
    "<pre style=\"background-color: black; padding: 10px; border-radius: 4px; color: white;\">\n",
    "<code>\n",
    "public class StringLengthExample {\n",
    "public static void main(String[] args) {\n",
    "String example = \"APCSP\";\n",
    "// Finding the length of the string\n",
    "int length = example.length();\n",
    "\n",
    "// Output the result\n",
    "System.out.println(\"The length of the string \\\"APCSP\\\" is: \" + length);\n",
    "}\n",
    "}\n",
    "</code>\n",
    "</pre>\n",
    "\n",
    "\n",
    "<p style=\"font-family: Arial, sans-serif; color: white; background-color: black;\">\n",
    "In this example, <code style=\"background-color: black; color: white;\">part1 + part2</code> merges the strings <code style=\"background-color: black; color: white;\">\"AP\"</code> and <code style=\"background-color: black; color: white;\">\"CSP\"</code> into one string, resulting in <code style=\"background-color: black; color: white;\">\"APCSP\"</code>.\n",
    "</p>\n"
   ]
  },
  {
   "cell_type": "code",
   "execution_count": 4,
   "metadata": {
    "vscode": {
     "languageId": "javascript"
    }
   },
   "outputs": [
    {
     "data": {
      "application/javascript": "<!-- Heading -->\n<h1 style=\"color: white; font-family: Arial, sans-serif; background-color: black;\">Popcorn #4 Hack</h1>\n\n\n<!-- Body Text Explanation -->\n<p style=\"font-family: Arial, sans-serif; line-height: 1.6; color: white; background-color: black;\">\n   This hack will help you practice string manipulation in Java. You will:\n</p>\n\n\n<ul style=\"font-family: Arial, sans-serif; line-height: 1.6; color: white; background-color: black;\">\n   <li>Find the number of characters in your last name using <code style=\"background-color: black; color: white;\">length()</code>.</li>\n   <li>Concatenate your first and last name together using the <code style=\"background-color: black; color: white;\">+</code> operator.</li>\n   <li>Use the <code style=\"background-color: black; color: white;\">substring()</code> method to extract characters from the 3rd to the 6th position of your concatenated name.</li>\n</ul>\n\n\n<!-- Java Code for the Hack -->\n<h3 style=\"font-family: Arial, sans-serif; color: white; background-color: black;\">Java Code:</h3>\n\n\n<pre style=\"background-color: black; padding: 10px; border-radius: 4px; color: white;\">\n<code>\npublic class PopcornHack4 {\n   public static void main(String[] args) {\n       // Find the number of characters in your last name\n       String lastName = \"Bharadwaj\";\n       int length = lastName.length();\n       System.out.println(\"The number of characters in your last name is: \" + length);\n\n\n       // Concatenate your first and last names together\n       String firstName = \"Aditi\";\n       String fullName = firstName + lastName;\n       System.out.println(\"Your full name is: \" + fullName);\n\n\n       // Use substring to show only the 3rd to 6th characters (index 2 to 6)\n       String substring = fullName.substring(2, 6);\n       System.out.println(\"Substring (3rd to 6th characters): \" + substring);\n   }\n}\n</code>\n</pre>\n\n\n<p style=\"font-family: Arial, sans-serif; color: white; background-color: black;\">\n   In this example, <code style=\"background-color: black; color: white;\">length()</code> is used to find the number of characters in the last name, <code style=\"background-color: black; color: white;\">+</code> is used to concatenate the first and last names, and <code style=\"background-color: black; color: white;\">substring()</code> extracts the 3rd to 6th characters of the concatenated string.\n</p>\n",
      "text/plain": [
       "<IPython.core.display.Javascript object>"
      ]
     },
     "metadata": {},
     "output_type": "display_data"
    }
   ],
   "source": [
    "%%javascript\n",
    "<!-- Heading -->\n",
    "<h1 style=\"color: white; font-family: Arial, sans-serif; background-color: black;\">Popcorn #4 Hack</h1>\n",
    "\n",
    "\n",
    "<!-- Body Text Explanation -->\n",
    "<p style=\"font-family: Arial, sans-serif; line-height: 1.6; color: white; background-color: black;\">\n",
    "   This hack will help you practice string manipulation in Java. You will:\n",
    "</p>\n",
    "\n",
    "\n",
    "<ul style=\"font-family: Arial, sans-serif; line-height: 1.6; color: white; background-color: black;\">\n",
    "   <li>Find the number of characters in your last name using <code style=\"background-color: black; color: white;\">length()</code>.</li>\n",
    "   <li>Concatenate your first and last name together using the <code style=\"background-color: black; color: white;\">+</code> operator.</li>\n",
    "   <li>Use the <code style=\"background-color: black; color: white;\">substring()</code> method to extract characters from the 3rd to the 6th position of your concatenated name.</li>\n",
    "</ul>\n",
    "\n",
    "\n",
    "<!-- Java Code for the Hack -->\n",
    "<h3 style=\"font-family: Arial, sans-serif; color: white; background-color: black;\">Java Code:</h3>\n",
    "\n",
    "\n",
    "<pre style=\"background-color: black; padding: 10px; border-radius: 4px; color: white;\">\n",
    "<code>\n",
    "public class PopcornHack4 {\n",
    "   public static void main(String[] args) {\n",
    "       // Find the number of characters in your last name\n",
    "       String lastName = \"Bharadwaj\";\n",
    "       int length = lastName.length();\n",
    "       System.out.println(\"The number of characters in your last name is: \" + length);\n",
    "\n",
    "\n",
    "       // Concatenate your first and last names together\n",
    "       String firstName = \"Aditi\";\n",
    "       String fullName = firstName + lastName;\n",
    "       System.out.println(\"Your full name is: \" + fullName);\n",
    "\n",
    "\n",
    "       // Use substring to show only the 3rd to 6th characters (index 2 to 6)\n",
    "       String substring = fullName.substring(2, 6);\n",
    "       System.out.println(\"Substring (3rd to 6th characters): \" + substring);\n",
    "   }\n",
    "}\n",
    "</code>\n",
    "</pre>\n",
    "\n",
    "\n",
    "<p style=\"font-family: Arial, sans-serif; color: white; background-color: black;\">\n",
    "   In this example, <code style=\"background-color: black; color: white;\">length()</code> is used to find the number of characters in the last name, <code style=\"background-color: black; color: white;\">+</code> is used to concatenate the first and last names, and <code style=\"background-color: black; color: white;\">substring()</code> extracts the 3rd to 6th characters of the concatenated string.\n",
    "</p>\n"
   ]
  }
 ],
 "metadata": {
  "kernelspec": {
   "display_name": "venv",
   "language": "python",
   "name": "python3"
  },
  "language_info": {
   "codemirror_mode": {
    "name": "ipython",
    "version": 3
   },
   "file_extension": ".py",
   "mimetype": "text/x-python",
   "name": "python",
   "nbconvert_exporter": "python",
   "pygments_lexer": "ipython3",
   "version": "3.12.5"
  }
 },
 "nbformat": 4,
 "nbformat_minor": 2
}
