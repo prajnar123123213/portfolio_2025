{
 "cells": [
  {
   "cell_type": "raw",
   "metadata": {
    "vscode": {
     "languageId": "raw"
    }
   },
   "source": [
    "---\n",
    "toc: false\n",
    "comments: true\n",
    "layout: post\n",
    "title: 3.5 Overview of Content (P2)\n",
    "description: Student led teaching on  Mathematical Expressions. Learn how mathematical expressions involve using arithmetic operators (like addition, subtraction, multiplication, and division) to perform calculations\n",
    "permalink: /csp/big-idea/p2/3-5\n",
    "categories: [CSP Big Ideas]\n",
    "author: Manas, Shriya, Lalita, Ethan\n",
    "menu: nav/csp_units/csp_unit3_p2_fundamentals.html\n",
    "---"
   ]
  },
  {
   "cell_type": "code",
   "execution_count": null,
   "metadata": {},
   "outputs": [],
   "source": [
    "# Overview of our content"
   ]
  },
  {
   "cell_type": "markdown",
   "metadata": {},
   "source": [
    "_3.5.1_ Boolean Values in Python\n",
    "- Boolean Pythons \n",
    "- Rational Operators Python\n",
    "- Logical Operators Python\n",
    "\n",
    "_3.5.2_ Boolean Values in Java\n",
    "- Boolean Java\n",
    "- Rational Operators Java\n",
    "- Logical Operators\n",
    "\n",
    "_3.5.3_ Homework Hacks\n",
    "- Create Logic Gate Simulator in Python and Java\n",
    "\n",
    "_3.5.4_ Popcorn Hacks\n",
    "- Contrapositive Law in Python and Java"
   ]
  }
 ],
 "metadata": {
  "language_info": {
   "name": "python"
  }
 },
 "nbformat": 4,
 "nbformat_minor": 2
}
