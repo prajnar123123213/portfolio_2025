{
 "cells": [
  {
   "cell_type": "raw",
   "metadata": {
    "vscode": {
     "languageId": "raw"
    }
   },
   "source": [
    "---\n",
    "layout: post\n",
    "title: Javascript Strings\n",
    "description: Gain and understanding of how strings work \n",
    "categories: [DevOps, Javascript]\n",
    "permalink: /csp/big-idea/p2/3-4-1\n",
    "menu: nav/csp_units/csp_unit3_p2_fundamentals.html\n",
    "author: Keerthan\n",
    "toc: true\n",
    "comments: true"
   ]
  },
  {
   "cell_type": "markdown",
   "metadata": {},
   "source": [
    "# Strings & Palindromes in Javascript"
   ]
  },
  {
   "cell_type": "markdown",
   "metadata": {
    "vscode": {
     "languageId": "html"
    }
   },
   "source": [
    "<style>\n",
    "    h1, h2 {\n",
    "        color: #4CAF50;\n",
    "    }\n",
    "    p {\n",
    "        margin: 10px 0;\n",
    "    }\n",
    "    code {\n",
    "        color: #4CAF50;\n",
    "        padding: 2px 4px;\n",
    "        border-radius: 4px;\n",
    "    }\n",
    "</style>\n",
    "\n",
    "<!-- Heading -->\n",
    "<h2>Strings</h2>\n",
    "\n",
    "<!-- Body Text Explanation -->\n",
    "<p>JavaScript has roots from Java.  The 1st two examples we will show similarities</p>\n",
    "<p>A <strong>string</strong> is an ordered sequence of characters. In programming, a string can contain letters, numbers, spaces, and even special characters. Strings are used to represent text in many programming languages.</p>\n",
    "\n",
    "<p>Strings can also have procedures and methods that perform operations like finding their length, combining multiple strings (concatenation), or extracting parts of them (substrings).</p>\n",
    "\n",
    "<!-- len() Example -->\n",
    "<h3>Example 1: Finding the Length of a String using <code>length()</code> in Java.</h3>\n",
    "<p>In Java, we can use the <code>length()</code> method to find out how many characters a string contains. This includes letters, spaces, and numbers.</p>\n",
    "\n",
    "<pre><code>\n",
    "String str = \"APCSP\";\n",
    "// Finding the length of the string\n",
    "int length = str.length();\n",
    "    \n",
    "// Output the result\n",
    "System.out.println(\"The length of the string \\\"APCSP\\\" is: \" + length);\n",
    "</code></pre>\n"
   ]
  },
  {
   "cell_type": "code",
   "execution_count": null,
   "metadata": {
    "vscode": {
     "languageId": "javascript"
    }
   },
   "outputs": [],
   "source": [
    "%%js\n",
    "\n",
    "// JavaScript String length code cell\n",
    "// Instead of String in Java we use var or let in JavaScript, in this case we use var\n",
    "var str = \"APCSP\";\n",
    "var length = str.length;\n",
    "// Ouptut in JavaScript is done using console.log, you must use the console to see the output\n",
    "console.log(\"String length of\", str, \"is:\", length);"
   ]
  },
  {
   "cell_type": "markdown",
   "metadata": {},
   "source": [
    "\n",
    "<!-- concat() Example -->\n",
    "<h3>Example 2: Concatenating Strings using <code>+</code> in Java</h3>\n",
    "<p>The <code>+</code> operator is used to combine two strings into one.</p>\n",
    "\n",
    "<p>In this example, <code>part1 + part2</code> combines the strings <code>\"AP\"</code> and <code>\"CSP\"</code> into one string, resulting in <code>\"APCSP\"</code>.</p>\n",
    "\n",
    "\n",
    "<pre><code>\n",
    "String part1 = \"AP\";\n",
    "String part2 = \"CSP\";\n",
    "\n",
    "// Concatenating the two strings\n",
    "String result = part1 + part2;\n",
    "\n",
    "// Output the result\n",
    "System.out.println(\"The concatenated string is: \" + result);\n",
    "</code></pre>\n",
    "\n"
   ]
  },
  {
   "cell_type": "code",
   "execution_count": null,
   "metadata": {
    "vscode": {
     "languageId": "javascript"
    }
   },
   "outputs": [],
   "source": [
    "%%js\n",
    "\n",
    "// JavaScript String concatenation code cell\n",
    "// This time we use let instead of var \n",
    "let str1 = \"AP\";\n",
    "let str2 = \"CSP\";\n",
    "// The two strings are concatenated using the + operator\n",
    "let result = str1 + str2;\n",
    "console.log(\"Concatenation of:\", str1, \" + \", str2, \" = \", result);"
   ]
  },
  {
   "cell_type": "markdown",
   "metadata": {
    "vscode": {
     "languageId": "html"
    }
   },
   "source": [
    "<!-- Heading -->\n",
    "<h2>Popcorn #4 Hack</h2>\n",
    "\n",
    "<!-- Body Text Explanation -->\n",
    "<p>This hack will help you practice string manipulation in Java. You will:</p>\n",
    "<ul>\n",
    "    <li>Find the number of characters in your last name using <code>length()</code>.</li>\n",
    "    <li>Concatenate your first and last name together using the <code>+</code> operator.</li>\n",
    "    <li>Use the <code>substring()</code> method to extract characters from the 3rd to the 6th position of your concatenated name.</li>\n",
    "</ul>\n",
    "\n",
    "<!-- Java Code for the Hack -->\n",
    "<h3>Java Code:</h3>\n",
    "\n",
    "<pre><code>public class PopcornHack4 {\n",
    "public static void main(String[] args) {\n",
    "    // Find the number of characters in your last name\n",
    "    String lastName = \"Bharadwaj\";\n",
    "    int length = lastName.length();\n",
    "    System.out.println(\"The number of characters in your last name is: \" + length);\n",
    "\n",
    "    // Concatenate your first and last names together\n",
    "    String firstName = \"Aditi\";\n",
    "    String fullName = firstName + lastName;\n",
    "    System.out.println(\"Your full name is: \" + fullName);\n",
    "\n",
    "    // Use substring to show only the 3rd to 6th characters (index 2 to 6)\n",
    "    String substring = fullName.substring(2, 6);\n",
    "    System.out.println(\"Substring (3rd to 6th characters): \" + substring);\n",
    "}\n",
    "}\n",
    "</code></pre>\n",
    "\n",
    "<p>In this example, <code>length()</code> is used to find the number of characters in the last name, <code>+</code> is used to concatenate the first and last names, and <code>substring()</code> extracts the 3rd to 6th characters of the concatenated string.</p>\n",
    "\n"
   ]
  },
  {
   "cell_type": "code",
   "execution_count": null,
   "metadata": {
    "vscode": {
     "languageId": "html"
    }
   },
   "outputs": [],
   "source": [
    "    <!-- Heading -->\n",
    "    <h2>Palindromes</h2>\n",
    "\n",
    "    <!-- Body Text -->\n",
    "    <p>A <strong>palindrome</strong> is a sequence of characters that reads the same forward as it does backward. This applies to strings, numbers, or phrases. When working with palindromes in coding, we typically ignore spaces, punctuation, and case sensitivity.</p>\n",
    "\n",
    "    <p>For example, the following are palindromes:</p>\n",
    "    <ul>\n",
    "        <li><code>madam</code></li>\n",
    "        <li><code>racecar</code></li>\n",
    "        <li><code>121</code></li>\n",
    "        <li><code>A man a plan a canal Panama</code> (ignoring spaces and capitalization)</li>\n",
    "    </ul>\n",
    "\n",
    "    <p>In programming, we can write a function that checks if a string is a palindrome by:</p>\n",
    "    <ol>\n",
    "        <li>Removing any spaces and punctuation from the string.</li>\n",
    "        <li>Converting all characters to lowercase.</li>\n",
    "        <li>Comparing the string to its reversed version.</li>\n",
    "    </ol>\n",
    "\n",
    "    <!-- Example Code -->\n",
    "    <p>Here’s an example of how this can be done in Java:</p>\n",
    "\n",
    "    <pre><code>public class PalindromeChecker {\n",
    "    \n",
    "    // Function to check if a string is a palindrome\n",
    "    public static boolean isPalindrome(String str) {\n",
    "        // Step 1: Remove non-alphanumeric characters and convert to lowercase\n",
    "        String cleanedStr = str.replaceAll(\"[^A-Za-z0-9]\", \"\").toLowerCase();\n",
    "\n",
    "        // Step 2: Reverse the cleaned string\n",
    "        String reversedStr = new StringBuilder(cleanedStr).reverse().toString();\n",
    "\n",
    "        // Step 3: Compare the cleaned string with its reverse\n",
    "        return cleanedStr.equals(reversedStr);\n",
    "    }\n",
    "\n",
    "    public static void main(String[] args) {\n",
    "        // Test cases\n",
    "        System.out.println(isPalindrome(\"A man a plan a canal Panama\"));  // Output: true\n",
    "        System.out.println(isPalindrome(\"hello\"));  // Output: false\n",
    "    }\n",
    "}\n",
    "</code></pre>\n",
    "\n",
    "    <p>This Java function works by cleaning the input string, reversing it, and then comparing it to the original cleaned version to check if it's a palindrome.</p>\n",
    "\n"
   ]
  },
  {
   "cell_type": "code",
   "execution_count": null,
   "metadata": {
    "vscode": {
     "languageId": "html"
    }
   },
   "outputs": [],
   "source": [
    "    <!-- Heading -->\n",
    "    <h1>Text Analyzer Hack</h1>\n",
    "\n",
    "    <!-- Body Text Explanation -->\n",
    "    <p>This hack creates a <strong>text analyzer</strong> that processes a string input and provides useful information about it. Specifically, the program will:</p>\n",
    "    \n",
    "    <ul>\n",
    "        <li>Count the total number of characters in the string, including spaces and numbers.</li>\n",
    "        <li>Count the number of vowels (a, e, i, o, u) in the string.</li>\n",
    "        <li>Calculate the average length of the words in the string.</li>\n",
    "        <li>Ensure that the program handles both uppercase and lowercase characters.</li>\n",
    "    </ul>\n",
    "\n",
    "    <p>The text analyzer is useful for understanding the basic structure of any input string and can easily be extended to add more features, like finding palindromes in the input.</p>\n",
    "\n",
    "    <!-- Java Code for Text Analyzer -->\n",
    "    <p>Here’s the Java code for the text analyzer:</p>\n",
    "\n",
    "    <pre><code>import java.util.Scanner;\n",
    "\n",
    "public class TextAnalyzer {\n",
    "\n",
    "    // Method to count the vowels in a string\n",
    "    public static int countVowels(String str) {\n",
    "        int vowelCount = 0;\n",
    "        str = str.toLowerCase();\n",
    "        for (int i = 0; i < str.length(); i++) {\n",
    "            char ch = str.charAt(i);\n",
    "            if (ch == 'a' || ch == 'e' || ch == 'i' || ch == 'o' || ch == 'u') {\n",
    "                vowelCount++;\n",
    "            }\n",
    "        }\n",
    "        return vowelCount;\n",
    "    }\n",
    "\n",
    "    // Method to calculate the average word length\n",
    "    public static double averageWordLength(String str) {\n",
    "        String[] words = str.split(\"\\\\s+\");\n",
    "        int totalLength = 0;\n",
    "        for (String word : words) {\n",
    "            totalLength += word.length();\n",
    "        }\n",
    "        return (double) totalLength / words.length;\n",
    "    }\n",
    "\n",
    "    public static void main(String[] args) {\n",
    "        Scanner scanner = new Scanner(System.in);\n",
    "        \n",
    "        // Step 1: Accept user input\n",
    "        System.out.println(\"Enter a string: \");\n",
    "        String input = scanner.nextLine();\n",
    "        \n",
    "        // Step 2: Count total characters (including spaces and numbers)\n",
    "        int totalCharacters = input.length();\n",
    "\n",
    "        // Step 3: Count total vowels\n",
    "        int totalVowels = countVowels(input);\n",
    "\n",
    "        // Step 4: Calculate average word length\n",
    "        double avgWordLength = averageWordLength(input);\n",
    "\n",
    "        // Output the results\n",
    "        System.out.println(\"Total Characters (including spaces): \" + totalCharacters);\n",
    "        System.out.println(\"Total Vowels: \" + totalVowels);\n",
    "        System.out.println(\"Average Word Length: \" + String.format(\"%.2f\", avgWordLength));\n",
    "\n",
    "        scanner.close();\n",
    "    }\n",
    "}\n",
    "</code></pre>\n",
    "\n",
    "    <p>Here’s how the program works:</p>\n",
    "    <ul>\n",
    "        <li>The program accepts input from the user.</li>\n",
    "        <li>It then counts the total number of characters in the input string, including spaces.</li>\n",
    "        <li>The number of vowels is counted by iterating through the string and checking for characters a, e, i, o, u (in both uppercase and lowercase).</li>\n",
    "        <li>The average word length is calculated by splitting the string into words and dividing the total length of all words by the number of words.</li>\n",
    "    </ul>\n"
   ]
  },
  {
   "cell_type": "markdown",
   "metadata": {
    "vscode": {
     "languageId": "javascript"
    }
   },
   "source": [
    "  <!-- This div acts as the \"cell\" to display the text -->\n",
    "  <div class=\"cell\">\n",
    "    <div class=\"title\">Palindrome Checker (Ignoring Case and Spaces)</div>\n",
    "    <p>\n",
    "      This hack will create a function that checks if a given string is a palindrome. \n",
    "      It will ignore case and spaces, making it more flexible.\n",
    "    </p>\n",
    "  </div>\n",
    "\n",
    "  <script>\n",
    "    // You can add JavaScript here to dynamically manipulate this text if needed\n",
    "  </script>"
   ]
  },
  {
   "cell_type": "code",
   "execution_count": null,
   "metadata": {
    "vscode": {
     "languageId": "javascript"
    }
   },
   "outputs": [],
   "source": [
    "%%javascript\n",
    "\n",
    "// JavaScript checkPalindrome function\n",
    "\n",
    "function checkPalindrome() {\n",
    "    // Step 1: Get the input value from the user\n",
    "    const str = document.getElementById('inputString').value;\n",
    "  \n",
    "    // Step 2: Remove spaces and convert the string to lowercase\n",
    "    const cleanStr = str.replace(/\\s+/g, '').toLowerCase();\n",
    "  \n",
    "    // Step 3: Reverse the cleaned string\n",
    "    const reversedStr = cleanStr.split('').reverse().join('');\n",
    "  \n",
    "    // Step 4: Compare the original cleaned string with the reversed string\n",
    "    if (cleanStr === reversedStr && cleanStr.length > 0) {\n",
    "      // Step 5: Display success message if it's a palindrome\n",
    "      document.getElementById('result').textContent = `\"${str}\" is a palindrome!`;\n",
    "    } else {\n",
    "      // Step 6: Display a message if it's not a palindrome\n",
    "      document.getElementById('result').textContent = `\"${str}\" is NOT a palindrome.`;\n",
    "    }\n",
    "  }\n",
    "  "
   ]
  }
 ],
 "metadata": {
  "kernelspec": {
   "display_name": "Python 3",
   "language": "python",
   "name": "python3"
  },
  "language_info": {
   "codemirror_mode": {
    "name": "ipython",
    "version": 3
   },
   "file_extension": ".py",
   "mimetype": "text/x-python",
   "name": "python",
   "nbconvert_exporter": "python",
   "pygments_lexer": "ipython3",
   "version": "3.12.5"
  }
 },
 "nbformat": 4,
 "nbformat_minor": 2
}
