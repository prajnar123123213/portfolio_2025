{
 "cells": [
  {
   "cell_type": "raw",
   "metadata": {
    "vscode": {
     "languageId": "raw"
    }
   },
   "source": [
    "---\n",
    "layout: post\n",
    "title: Python Variables\n",
    "description: Creating a lesson by using Python. \n",
    "categories: [Python, Javascript]\n",
    "permalink: /csp/big-idea/p2/3-1\n",
    "menu: nav/csp_units/csp_unit3_p2_fundamentals.html\n",
    "author: Arhaan, Mihir, Akshaj, Keerthan\n",
    "toc: true\n",
    "comments: true\n",
    "---"
   ]
  },
  {
   "cell_type": "markdown",
   "metadata": {
    "vscode": {
     "languageId": "raw"
    }
   },
   "source": [
    "Here is our menu for 3-1"
   ]
  }
 ],
 "metadata": {
  "language_info": {
   "name": "python"
  }
 },
 "nbformat": 4,
 "nbformat_minor": 2
}
