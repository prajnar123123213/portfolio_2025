{
 "cells": [
  {
   "cell_type": "raw",
   "metadata": {
    "vscode": {
     "languageId": "raw"
    }
   },
   "source": [
    "---\n",
    "toc: false\n",
    "comments: true\n",
    "layout: post\n",
    "title: 3.8 While Loops\n",
    "description: Learn to use while loops to repeat code\n",
    "permalink: /csp/big-idea/p3/3-8-2\n",
    "categories: [CSP Big Ideas]\n",
    "author:  Nikhil, Hithin, Armaghan, Elliot\n",
    "menu: nav/csp_units/csp_unit3_p3_fundamentals.html\n",
    "---"
   ]
  },
  {
   "cell_type": "markdown",
   "metadata": {},
   "source": [
    "# Basic Overview\n",
    "- A **while loop** is a programming structure that allows us to execute a block of code repeatedly as long as a condition is true.\n",
    "- This can be particularly useful for counting or accumulating values.\n",
    "- In this example, we will use a while loop to display messages a specific number of times."
   ]
  },
  {
   "cell_type": "code",
   "execution_count": 4,
   "metadata": {},
   "outputs": [
    {
     "name": "stdout",
     "output_type": "stream",
     "text": [
      "This is message number 1\n",
      "This is message number 2\n",
      "This is message number 3\n"
     ]
    }
   ],
   "source": [
    "# Pseudocode:\n",
    "# count ← 1\n",
    "# WHILE count IS LESS THAN OR EQUAL TO 3:\n",
    "#     DISPLAY \"This is message number\" count\n",
    "#     count ← count + 1\n",
    "# END WHILE\n",
    "\n",
    "\n",
    "# Python Code:\n",
    "count = 1  # Start counting from 1\n",
    "while count <= 3:  # Continue while count is 3 or less\n",
    "    print(\"This is message number\", count)  # Display the current message number\n",
    "    count += 1  # Increment count by 1\n",
    "\n",
    "#Problem: Infinite Loop with a While Statement\n",
    "#Write a while loop that continuously prints \"Hello, World!\" until you stop the program.\n"
   ]
  },
  {
   "cell_type": "markdown",
   "metadata": {},
   "source": [
    "# What's Happening:\n",
    "- A **while loop** is a control structure that allows us to execute a block of code repeatedly as long as a specified condition is true.\n",
    "- In this example, we start with a variable **count** set to 1 and continue looping until **count** exceeds 3.\n",
    "- Each time the loop executes, it displays a message that includes the current value of **count** and then increments **count** by 1.\n",
    "- This method can be useful for tasks like counting, accumulating values, or running a block of code until a certain condition changes.\n",
    "- If the condition never changes (e.g., if the loop's terminating condition is never met), it can lead to an **infinite loop**, which continuously runs the code without stopping.\n"
   ]
  },
  {
   "cell_type": "markdown",
   "metadata": {},
   "source": [
    "# Additional Notes:\n",
    "- **Infinite Loop:** It's important to ensure that the condition in the while loop will eventually become false; otherwise, you may create an infinite loop that never stops running.\n",
    "- **Control Flow:** While loops can help manage the flow of your program, especially in cases where you do not know in advance how many times you need to repeat a task.\n",
    "- **Common Use Cases:** While loops are often used in scenarios like reading data until the end of a file, processing user input until a specific command is given, or performing actions until a desired outcome is achieved."
   ]
  }
 ],
 "metadata": {
  "kernelspec": {
   "display_name": "base",
   "language": "python",
   "name": "python3"
  },
  "language_info": {
   "codemirror_mode": {
    "name": "ipython",
    "version": 3
   },
   "file_extension": ".py",
   "mimetype": "text/x-python",
   "name": "python",
   "nbconvert_exporter": "python",
   "pygments_lexer": "ipython3",
   "version": "3.12.7"
  }
 },
 "nbformat": 4,
 "nbformat_minor": 2
}
