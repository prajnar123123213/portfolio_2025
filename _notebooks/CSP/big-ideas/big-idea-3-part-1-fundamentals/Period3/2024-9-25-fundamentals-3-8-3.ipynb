{
 "cells": [
  {
   "cell_type": "raw",
   "metadata": {
    "vscode": {
     "languageId": "raw"
    }
   },
   "source": [
    "---\n",
    "toc: false\n",
    "comments: true\n",
    "layout: post\n",
    "title: 3.8 Looping through a list with indexes\n",
    "description: Learn how to make a list, and loop through it\n",
    "permalink: /csp/big-idea/p3/3-8-3\n",
    "categories: [CSP Big Ideas]\n",
    "author:  Nikhil, Hithin, Armaghan, Elliot\n",
    "menu: nav/csp_units/csp_unit3_p3_fundamentals.html\n",
    "---"
   ]
  },
  {
   "cell_type": "markdown",
   "metadata": {},
   "source": [
    "# Looping with Index\n",
    "\n",
    "Looping with index means going through each item in a list while also knowing the position (index) of each item.\n",
    "\n",
    "### Basic Overview:\n",
    "When looping through a list with an index, you're iterating over the list while keeping track of both the position (index) and the value (item) at that position. This approach is particularly helpful when you need to perform operations based on the position of elements in the list, such as comparing, updating, or displaying items.\n",
    "\n",
    "- **Index**: The position of an element in the list.\n",
    "- **Value**: The actual item in the list at that position.\n",
    "\n",
    "You can use `range(len(list))` to generate a sequence of numbers that represent the positions (indexes) of the list items."
   ]
  },
  {
   "cell_type": "code",
   "execution_count": 2,
   "metadata": {},
   "outputs": [
    {
     "name": "stdout",
     "output_type": "stream",
     "text": [
      "Index: 1\n",
      "Element: 4\n",
      "Index: 2\n",
      "Element: 6\n",
      "Index: 3\n",
      "Element: 7\n",
      "Index: 4\n",
      "Element: 2\n"
     ]
    }
   ],
   "source": [
    "lst = [4, 6, 7, 2]\n",
    "\n",
    "for i in range(len(lst)):  # Loop through each index\n",
    "    print('Index: ' + str(i + 1))  # Print the index, starting from 1\n",
    "    print('Element: ' + str(lst[i]))  # Print the element at that index\n"
   ]
  },
  {
   "cell_type": "markdown",
   "metadata": {},
   "source": [
    "### What's Happening:\n",
    "- In this lesson, we are looping through a list and using the **index** to keep track of both the position and the value of each element.\n",
    "- Python lists are zero-indexed, meaning the first element starts at index 0. However, if you want to start counting from 1, you can adjust the index by adding 1.\n",
    "- The **range(len(list))** function generates the list's index numbers, and inside the loop, each index is used to access the corresponding value in the list.\n",
    "- This method is useful when you need to know both the **position** and the **value** of each item, such as for updating or comparing elements based on their index."
   ]
  },
  {
   "cell_type": "markdown",
   "metadata": {},
   "source": [
    "<h2>Practice Problem</h2>\n",
    "    <p style=\"font-size: 20px;\">Here, there are four names in a list. Write code so that when the code runs, the index will be listed and the element(names) will be written under it."
   ]
  },
  {
   "cell_type": "code",
   "execution_count": 2,
   "metadata": {},
   "outputs": [],
   "source": [
    "# List of names\n",
    "names = [\"Alice\", \"Bob\", \"Charlie\", \"Diana\"]\n",
    "\n",
    "# Write a loop to print the index and name at that index\n"
   ]
  },
  {
   "cell_type": "markdown",
   "metadata": {},
   "source": [
    "<h2>Answer:</h2>"
   ]
  },
  {
   "cell_type": "markdown",
   "metadata": {},
   "source": [
    "names = [\"Alice\", \"Bob\", \"Charlie\", \"Diana\"]\n",
    "\n",
    "# Write a loop to print the index and name at that index\n",
    "\n",
    "for i in range(len(names)):  # Loop through each index\n",
    "    print('Index: ' + str(i + 1))  # Print the index, starting from 1\n",
    "    print('names: ' + str(names[i]))  # Print the element at that index"
   ]
  },
  {
   "cell_type": "markdown",
   "metadata": {},
   "source": [
    "### Additional Notes:\n",
    "\n",
    "- **Indexing in Python**: Python lists are zero-indexed, meaning the first element has an index of 0. If you want the index to start from 1, you can adjust it by adding 1 during printing.\n",
    "- **Useful for Tracking**: Looping with index is useful in situations where you need to track the position of elements, especially when performing comparisons or updates based on their position.\n"
   ]
  },
  {
   "cell_type": "code",
   "execution_count": null,
   "metadata": {},
   "outputs": [],
   "source": [
    "from IPython.core.display import HTML\n",
    "\n",
    "# Custom CSS for styling the notebook\n",
    "style = \"\"\"\n",
    "<style>\n",
    "/* Soothing purple background for the notebook */\n",
    "body {\n",
    "    background-color: #f3e8ff;\n",
    "    color: #333;\n",
    "}\n",
    "\n",
    "/* Style for code cells */\n",
    "div.code_cell {\n",
    "    background-color: #e6d9ff;\n",
    "    border: 1px solid #d1c4e9;\n",
    "    border-radius: 10px;\n",
    "}\n",
    "\n",
    "/* Customize heading fonts */\n",
    "h1, h2, h3, h4, h5, h6 {\n",
    "    font-family: 'Verdana', sans-serif;\n",
    "    color: #6a0dad;\n",
    "}\n",
    "\n",
    "/* Change text color */\n",
    "p {\n",
    "    color: #4c3575;\n",
    "    font-family: 'Arial', sans-serif;\n",
    "}\n",
    "\n",
    "/* Style for the output */\n",
    "div.output {\n",
    "    background-color: #e8d7ff;\n",
    "    border: 1px solid #c3aed6;\n",
    "    border-radius: 5px;\n",
    "    color: #333;\n",
    "    padding: 10px;\n",
    "}\n",
    "\n",
    "/* Style for practice problems */\n",
    "h2 {\n",
    "    color: #5d3fd3;\n",
    "}\n",
    "\n",
    "pre, code {\n",
    "    background-color: #f3e8ff;\n",
    "    color: #6a0dad;\n",
    "    border: 1px solid #d1c4e9;\n",
    "    padding: 5px;\n",
    "    border-radius: 5px;\n",
    "}\n",
    "</style>\n",
    "\"\"\"\n",
    "\n",
    "# Display the custom styles in the notebook\n",
    "HTML(style)\n"
   ]
  }
 ],
 "metadata": {
  "kernelspec": {
   "display_name": "venv",
   "language": "python",
   "name": "python3"
  },
  "language_info": {
   "codemirror_mode": {
    "name": "ipython",
    "version": 3
   },
   "file_extension": ".py",
   "mimetype": "text/x-python",
   "name": "python",
   "nbconvert_exporter": "python",
   "pygments_lexer": "ipython3",
   "version": "3.12.3"
  }
 },
 "nbformat": 4,
 "nbformat_minor": 2
}
