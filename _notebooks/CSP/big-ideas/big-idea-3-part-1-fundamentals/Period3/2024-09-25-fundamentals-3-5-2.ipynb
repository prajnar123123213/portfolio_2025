{
 "cells": [
  {
   "cell_type": "raw",
   "metadata": {
    "vscode": {
     "languageId": "raw"
    }
   },
   "source": [
    "---\n",
    "toc: false\n",
    "comments: true\n",
    "permalink: /csp/big-idea/p3/3-5-2\n",
    "layout: post\n",
    "title: 3.5 Booleans; Truth Table (Period 3)\n",
    "description: Student led teaching on Booleans. Learn how booleans are used in decision-making with logical operators. \n",
    "categories: [CSP Big Ideas]\n",
    "author: Trevor V\n",
    "menu: /nav/csp_units/csp_unit3_p3_fundamentals.html\n",
    "---"
   ]
  },
  {
   "cell_type": "markdown",
   "metadata": {},
   "source": [
    "# Python Truth Table"
   ]
  },
  {
   "cell_type": "markdown",
   "metadata": {},
   "source": [
    "## What is a Truth Table?\n",
    "\n",
    "A truth table is a table that displays the logical operations on input signals in a table format.\n",
    "\n",
    "![Truth Table](https://www.circuitbasics.com/wp-content/uploads/2020/06/OR-Truth-Table.png)\n",
    "\n",
    "- Remeber `||` means OR."
   ]
  },
  {
   "cell_type": "code",
   "execution_count": 8,
   "metadata": {},
   "outputs": [
    {
     "name": "stdout",
     "output_type": "stream",
     "text": [
      "|   A   |   B   |  A AND B  |  A OR B  |\n",
      "----------------------------------------\n",
      "| False | False | False |False |\n",
      "| False | True | False |True |\n",
      "| True | False | False |True |\n",
      "| True | True | True |True |\n"
     ]
    }
   ],
   "source": [
    "import itertools\n",
    "\n",
    "# Define the variables (A, B, C), 3 in this case\n",
    "variables = ['A', 'B']\n",
    "\n",
    "# Use itertools.product to generate the truth table\n",
    "truth_table_itertools = list(itertools.product([False, True], repeat=len(variables)))\n",
    "\n",
    "# Print the truth table\n",
    "print(\"|   A   |   B   |  A AND B  |  A OR B  |\")\n",
    "print(\"----------------------------------------\")\n",
    "for table in truth_table_itertools:\n",
    "    print(\"| \"+ str(table[0]) + \" | \" + str(table[1]) + \" | \" + str(table[0] and table[1]) + \" |\" + str(table[0] or table[1]) + \" |\")"
   ]
  },
  {
   "cell_type": "markdown",
   "metadata": {},
   "source": [
    "<style>\n",
    "    article {\n",
    "        background: linear-gradient(#0036ff, #00ffd3);\n",
    "        filter: drop-shadow(0 0 0.75rem gold);    \n",
    "    }\n",
    "    header {\n",
    "        z-index: 9999999\n",
    "    }\n",
    "</style>"
   ]
  }
 ],
 "metadata": {
  "kernelspec": {
   "display_name": "Python 3",
   "language": "python",
   "name": "python3"
  },
  "language_info": {
   "codemirror_mode": {
    "name": "ipython",
    "version": 3
   },
   "file_extension": ".py",
   "mimetype": "text/x-python",
   "name": "python",
   "nbconvert_exporter": "python",
   "pygments_lexer": "ipython3",
   "version": "3.11.1"
  }
 },
 "nbformat": 4,
 "nbformat_minor": 2
}
