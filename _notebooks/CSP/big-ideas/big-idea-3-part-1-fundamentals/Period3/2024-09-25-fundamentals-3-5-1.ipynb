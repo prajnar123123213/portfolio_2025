{
 "cells": [
  {
   "cell_type": "raw",
   "metadata": {
    "vscode": {
     "languageId": "raw"
    }
   },
   "source": [
    "---\n",
    "toc: false\n",
    "comments: true\n",
    "permalink: /csp/big-idea/p3/3-5-1\n",
    "layout: post\n",
    "title: 3.5 Booleans; De Morgan's Law (Period 3)\n",
    "description: Student led teaching on Booleans. Learn how booleans are used in decision-making with logical operators. \n",
    "categories: [CSP Big Ideas]\n",
    "author: Trevor V\n",
    "menu: /nav/csp_units/csp_unit3_p3_fundamentals.html\n",
    "---"
   ]
  },
  {
   "cell_type": "markdown",
   "metadata": {},
   "source": [
    "# De Morgan's Law\n",
    "\n",
    "---\n",
    "\n",
    "#### According to De Morgan's first law, the complement of the union of two sets A and B is equal to the intersection of the complement of the sets A and B\n",
    "\n",
    "## Examples:\n",
    "\n",
    "\n",
    "> \"I don't like chocolate or vanilla\" **=** \"I do not like chocolate and I do not like vanilla\" \n",
    "\n",
    "`In this example, both statements are logically the same`\n",
    "\n",
    "\n",
    "![De Morgan's Law](https://blog.penjee.com/wp-content/uploads/2016/12/demorgans-law-formula_all.png)\n"
   ]
  },
  {
   "cell_type": "markdown",
   "metadata": {},
   "source": [
    "# De Morgans Law in Code!"
   ]
  },
  {
   "cell_type": "markdown",
   "metadata": {},
   "source": [
    "## Javascript Example:"
   ]
  },
  {
   "cell_type": "code",
   "execution_count": 4,
   "metadata": {
    "vscode": {
     "languageId": "javascript"
    }
   },
   "outputs": [
    {
     "data": {
      "application/javascript": "\nlet x = 19;\nlet y = 50;\n\n// ! means not. So !true is false.\n\n// || means OR.\nif (!(x > 20 || y > 20)) {\n    console.log(\"I am the same condition as the one below!\")\n    //This will not be true since x is less than 20\n}\n\n// && means AND.\nif (!(x > 20) && !(y > 20)) {\n    console.log(\"I am the same condition as the one above!\")\n    //This will also not be true since x is less than 20\n}\n\nx = 50\ny = 100\n\nif (!(x < 20 || y < 20)) {\n    console.log(\"I will be true since both is also greater than 20 now!\")\n    //This WILL be true since both variables are greater than 20\n}\n\n// && means AND.\nif (!(x < 20) && !(y < 20)) {\n    console.log(\"I am the same condition as the one above!\")\n    //This WILL be true since both variables are greater than 20\n}\n\n\n// In all, not(X OR Y) is the same as (not(x) AND not(Y))\n",
      "text/plain": [
       "<IPython.core.display.Javascript object>"
      ]
     },
     "metadata": {},
     "output_type": "display_data"
    }
   ],
   "source": [
    "%%javascript\n",
    "\n",
    "let x = 19;\n",
    "let y = 50;\n",
    "\n",
    "// ! means not. So !true is false.\n",
    "\n",
    "// || means OR.\n",
    "if (!(x > 20 || y > 20)) {\n",
    "    console.log(\"I am the same condition as the one below!\")\n",
    "    //This will not be true since x is less than 20\n",
    "}\n",
    "\n",
    "// && means AND.\n",
    "if (!(x > 20) && !(y > 20)) {\n",
    "    console.log(\"I am the same condition as the one above!\")\n",
    "    //This will also not be true since x is less than 20\n",
    "}\n",
    "\n",
    "x = 50\n",
    "y = 100\n",
    "\n",
    "if (!(x < 20 || y < 20)) {\n",
    "    console.log(\"I will be true since both is also greater than 20 now!\")\n",
    "    //This WILL be true since both variables are greater than 20\n",
    "}\n",
    "\n",
    "// && means AND.\n",
    "if (!(x < 20) && !(y < 20)) {\n",
    "    console.log(\"I am the same condition as the one above!\")\n",
    "    //This WILL be true since both variables are greater than 20\n",
    "}\n",
    "\n",
    "\n",
    "// In all, not(X OR Y) is the same as (not(x) AND not(Y))"
   ]
  },
  {
   "cell_type": "markdown",
   "metadata": {},
   "source": [
    "## Python Example:"
   ]
  },
  {
   "cell_type": "code",
   "execution_count": 8,
   "metadata": {},
   "outputs": [
    {
     "name": "stdout",
     "output_type": "stream",
     "text": [
      "I will be true since both x and y are greater than 20 now!\n",
      "I will also be true since both x and y are greater than 20 now!\n"
     ]
    }
   ],
   "source": [
    "x = 19\n",
    "y = 50\n",
    "\n",
    "if not (x > 20 or y > 20):\n",
    "    print(\"Im not gonna be true since X is less than 20\")\n",
    "    # This will not be true since x is less than 20\n",
    "\n",
    "if not (x > 20) and not (y > 20):\n",
    "    print(\"I am the same condition as the one above!\")\n",
    "    # This will also not be true since x is less than 20\n",
    "\n",
    "x = 50\n",
    "y = 100\n",
    "\n",
    "if not (x < 20 or y < 20):\n",
    "    print(\"I will be true since both x and y are greater than 20 now!\")\n",
    "    # This WILL be true since both variables are greater than 20\n",
    "\n",
    "if not (x < 20) and not (y < 20):\n",
    "    print(\"I will also be true since both x and y are greater than 20 now!\")\n",
    "    # This WILL be true since both variables are greater than 20\n",
    "\n",
    "# In all, not(X OR Y) is the same as (not(X) AND not(Y))"
   ]
  },
  {
   "cell_type": "markdown",
   "metadata": {},
   "source": [
    "<style>\n",
    "    article {\n",
    "        background: linear-gradient(#0036ff, #00ffd3);\n",
    "        filter: drop-shadow(0 0 0.75rem gold);    \n",
    "    }\n",
    "    header {\n",
    "        z-index: 9999999\n",
    "    }\n",
    "</style>"
   ]
  }
 ],
 "metadata": {
  "kernelspec": {
   "display_name": "Python 3",
   "language": "python",
   "name": "python3"
  },
  "language_info": {
   "codemirror_mode": {
    "name": "ipython",
    "version": 3
   },
   "file_extension": ".py",
   "mimetype": "text/x-python",
   "name": "python",
   "nbconvert_exporter": "python",
   "pygments_lexer": "ipython3",
   "version": "3.11.1"
  }
 },
 "nbformat": 4,
 "nbformat_minor": 2
}
