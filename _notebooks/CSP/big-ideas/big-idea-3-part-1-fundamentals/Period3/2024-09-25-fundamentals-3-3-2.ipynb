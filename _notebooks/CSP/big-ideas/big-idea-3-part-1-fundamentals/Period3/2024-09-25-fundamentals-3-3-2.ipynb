{
 "cells": [
  {
   "cell_type": "raw",
   "metadata": {
    "vscode": {
     "languageId": "raw"
    }
   },
   "source": [
    "---\n",
    "toc: false\n",
    "comments: true\n",
    "layout: post\n",
    "permalink: /csp/big-idea/p3/3-3-2\n",
    "title: 3.3 Mathematical Expressions; Mathematical Functions (Period 3)\n",
    "description: Student led teaching on  Mathematical Expressions. Learn how mathematical expressions involve using arithmetic operators (like addition, subtraction, multiplication, and division) to perform calculations\n",
    "categories: [CSP Big Ideas]\n",
    "author: Wyatt Z, Luke S\n",
    "menu: /nav/csp_units/csp_unit3_p3_fundamentals.html\n",
    "---"
   ]
  },
  {
   "cell_type": "markdown",
   "metadata": {},
   "source": [
    "# Add Subtract Multiply and Divde Functions"
   ]
  },
  {
   "cell_type": "code",
   "execution_count": 4,
   "metadata": {
    "vscode": {
     "languageId": "javascript"
    }
   },
   "outputs": [
    {
     "data": {
      "application/javascript": "\nfunction add(a, b) {\n    return a+b\n}\n\nfunction subtract(a, b) {\n    return a-b\n}\n\nfunction multiply(a, b) {\n    return a*b\n}\n\nfunction divide(a, b) {\n    return a/b\n}\n\nfunction mod(a, b) {\n    return a % b\n}\n\nfunction exponent(a, b) {\n    return a^b\n}\n",
      "text/plain": [
       "<IPython.core.display.Javascript object>"
      ]
     },
     "metadata": {},
     "output_type": "display_data"
    }
   ],
   "source": [
    "%%javascript\n",
    "\n",
    "function add(a, b) {\n",
    "    return a+b\n",
    "}\n",
    "\n",
    "function subtract(a, b) {\n",
    "    return a-b\n",
    "}\n",
    "\n",
    "function multiply(a, b) {\n",
    "    return a*b\n",
    "}\n",
    "\n",
    "function divide(a, b) {\n",
    "    return a/b\n",
    "}\n",
    "\n",
    "function mod(a, b) {\n",
    "    return a % b\n",
    "}\n",
    "\n",
    "function exponent(a, b) {\n",
    "    return a^b\n",
    "}"
   ]
  },
  {
   "cell_type": "markdown",
   "metadata": {},
   "source": [
    "<style>\n",
    "    article {\n",
    "        background: linear-gradient(#0036ff, #00ffd3);\n",
    "        filter: drop-shadow(0 0 0.75rem gold);    \n",
    "    }\n",
    "    header {\n",
    "        z-index: 9999999\n",
    "    }\n",
    "</style>"
   ]
  }
 ],
 "metadata": {
  "kernelspec": {
   "display_name": "Python 3",
   "language": "python",
   "name": "python3"
  },
  "language_info": {
   "codemirror_mode": {
    "name": "ipython",
    "version": 3
   },
   "file_extension": ".py",
   "mimetype": "text/x-python",
   "name": "python",
   "nbconvert_exporter": "python",
   "pygments_lexer": "ipython3",
   "version": "3.10.12"
  }
 },
 "nbformat": 4,
 "nbformat_minor": 2
}
