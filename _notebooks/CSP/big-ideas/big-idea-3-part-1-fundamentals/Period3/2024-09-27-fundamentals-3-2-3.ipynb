{
 "cells": [
  {
   "cell_type": "raw",
   "metadata": {
    "vscode": {
     "languageId": "raw"
    }
   },
   "source": [
    "---\n",
    "toc: false\n",
    "comments: true\n",
    "layout: post\n",
    "title: 3.2.3 JSON implementation\n",
    "description: Student led teaching on converting from Python to JSON.\n",
    "permalink: /csp/big-idea/p3/3-2-3\n",
    "categories: [CSP Big Ideas]\n",
    "author:  Gabriela Connelly\n",
    "menu: nav/csp_units/csp_unit3_p3_fundamentals.html\n",
    "---"
   ]
  },
  {
   "cell_type": "markdown",
   "metadata": {},
   "source": [
    "<h1 style=\"font-family: 'Comic Sans MS', cursive; font-size: 30px; color: #FF69B4; background-color: #FFF0F5; padding: 15px; border-radius: 10px; text-align: center; box-shadow: 2px 2px 5px rgba(0, 0, 0, 0.1);\">\n",
    "    JSON - JavaScript Object Notation\n",
    "</h1>\n",
    "<p style=\"font-family: 'Comic Sans MS', cursive; font-size: 18px; color: #FF69B4; background-color: #E0FFFF; padding: 10px; border-radius: 10px; box-shadow: 2px 2px 5px rgba(0, 0, 0, 0.1);\">\n",
    "    JSON is a lightweight data interchange format that is easy for people and machines to understand. It is widely used for data exchange between a client and a server, as well as for storing and transporting data.\n",
    "    In Python, the `json` module provides methods to convert Python objects into JSON and vice versa. This process is known as serialization (converting Python objects to JSON) and deserialization (converting JSON to Python objects). JSON is used when data is sent from a web server to a webpage.\n",
    "</p>"
   ]
  },
  {
   "cell_type": "code",
   "execution_count": null,
   "metadata": {},
   "outputs": [],
   "source": [
    "# using json.dumps method to serialize Python objects into a JSON-formatted string\n",
    "import json\n",
    "\n",
    "# Python dictionary\n",
    "python_dict = {\n",
    "    \"name\": \"Alice\",\n",
    "    \"age\": 25,\n",
    "    \"is_student\": False,\n",
    "    \"courses\": [\"Math\", \"Science\"],\n",
    "    \"details\": {\n",
    "        \"height\": 1.65,\n",
    "        \"address\": \"123 Main St\"\n",
    "    }\n",
    "}\n",
    "\n",
    "# Convert dictionary to JSON string\n",
    "json_string = json.dumps(python_dict)\n",
    "print(json_string)\n",
    "\n",
    "# writes the JSON string representation of python_dict directly into a file\n",
    "with open('data.json', 'w') as json_file:\n",
    "    json.dump(python_dict, json_file)\n",
    "\n"
   ]
  },
  {
   "cell_type": "markdown",
   "metadata": {},
   "source": [
    "<h1 style=\"font-family: 'Comic Sans MS', cursive; font-size: 30px; color: #FF69B4; background-color: #FFF0F5; padding: 15px; border-radius: 10px; text-align: center; box-shadow: 2px 2px 5px rgba(0, 0, 0, 0.1);\">\n",
    "    Formatting\n",
    "</h1>\n",
    "<p style=\"font-family: 'Comic Sans MS', cursive; font-size: 18px; color: #FF69B4; background-color: #E0FFFF; padding: 10px; border-radius: 10px; box-shadow: 2px 2px 5px rgba(0, 0, 0, 0.1);\">\n",
    "    Key Parameters for Formatting JSON: <br>\n",
    "    - `indent`: Adds indentation to each level of the JSON object, making it easier to read <br>\n",
    "    - `separators`: Controls how items are separated in the JSON string. By default, the separators are `(\", \", \": \") <br>\n",
    "    - `sort_keys`: When `True`, this sorts the keys in the output JSON by alphabetical order. <br>\n",
    "</p>"
   ]
  },
  {
   "cell_type": "code",
   "execution_count": 2,
   "metadata": {},
   "outputs": [
    {
     "name": "stdout",
     "output_type": "stream",
     "text": [
      "{\n",
      "    \"name\": \"Alice\",\n",
      "    \"age\": 25,\n",
      "    \"is_student\": false,\n",
      "    \"courses\": [\n",
      "        \"Math\",\n",
      "        \"Science\"\n",
      "    ],\n",
      "    \"details\": {\n",
      "        \"height\": 1.65,\n",
      "        \"address\": \"123 Main St\"\n",
      "    }\n",
      "}\n",
      "\n",
      "{\n",
      "    \"name\" = \"Alice\".\n",
      "    \"age\" = 25.\n",
      "    \"is_student\" = false.\n",
      "    \"courses\" = [\n",
      "        \"Math\".\n",
      "        \"Science\"\n",
      "    ].\n",
      "    \"details\" = {\n",
      "        \"height\" = 1.65.\n",
      "        \"address\" = \"123 Main St\"\n",
      "    }\n",
      "}\n",
      "\n"
     ]
    }
   ],
   "source": [
    "import json\n",
    "\n",
    "python_dict = {\n",
    "    \"name\": \"Alice\",\n",
    "    \"age\": 25,\n",
    "    \"is_student\": False,\n",
    "    \"courses\": [\"Math\", \"Science\"],\n",
    "    \"details\": {\n",
    "        \"height\": 1.65,\n",
    "        \"address\": \"123 Main St\"\n",
    "    }\n",
    "}\n",
    "\n",
    "y = json.dumps(python_dict, indent=4) # `indent` formats the JSON string for readability\n",
    "print(y + \"\\n\") # '\\n' adds a space \n",
    "\n",
    "y = json.dumps(python_dict, indent=4, separators=(\".\", \" = \")) # uses a '=' instead of ':'\n",
    "print(y + \"\\n\")\n",
    "\n"
   ]
  },
  {
   "cell_type": "markdown",
   "metadata": {},
   "source": [
    "<h1 style=\"font-family: 'Comic Sans MS', cursive; font-size: 30px; color: #FF69B4; background-color: #FFF0F5; padding: 15px; border-radius: 10px; text-align: center; box-shadow: 2px 2px 5px rgba(0, 0, 0, 0.1);\">\n",
    "    JSON in JavaScript\n",
    "</h1>\n",
    "<p style=\"font-family: 'Comic Sans MS', cursive; font-size: 18px; color: #FF69B4; background-color: #E0FFFF; padding: 10px; border-radius: 10px; box-shadow: 2px 2px 5px rgba(0, 0, 0, 0.1);\">\n",
    "    JSON (JavaScript Object Notation) is natively supported in JavaScript and is widely used for data interchange. You can convert JavaScript objects to JSON strings using the built-in  `JSON` object.\n",
    "</p>"
   ]
  },
  {
   "cell_type": "code",
   "execution_count": null,
   "metadata": {
    "vscode": {
     "languageId": "javascript"
    }
   },
   "outputs": [],
   "source": [
    "%% javascript\n",
    "\n",
    "// Step 1: Creating a JavaScript object\n",
    "const person = {\n",
    "    name: \"Alice\",\n",
    "    age: 30,\n",
    "    isStudent: false,\n",
    "    courses: [\"Math\", \"Science\"]\n",
    "};\n",
    "\n",
    "// Step 2: Converting the object to a JSON string\n",
    "const jsonString = JSON.stringify(person);\n",
    "console.log(\"JSON String:\", jsonString);\n",
    "\n",
    "// Step 3: Parsing the JSON string back into a JavaScript object\n",
    "const parsedPerson = JSON.parse(jsonString);\n",
    "console.log(\"Parsed Person Object:\", parsedPerson);\n",
    "\n",
    "// Accessing properties from the parsed object\n",
    "console.log(\"Name:\", parsedPerson.name);  // Output: Alice\n",
    "console.log(\"Age:\", parsedPerson.age);    // Output: 30\n"
   ]
  },
  {
   "cell_type": "markdown",
   "metadata": {},
   "source": [
    "<h1 style=\"font-family: 'Comic Sans MS', cursive; font-size: 30px; color: #FF69B4; background-color: #FFF0F5; padding: 15px; border-radius: 10px; text-align: center; box-shadow: 2px 2px 5px rgba(0, 0, 0, 0.1);\">\n",
    "    Popcorn Hack: Use JSON to make a dictionary, modify it, and update the changes\n",
    "</h1>"
   ]
  },
  {
   "cell_type": "code",
   "execution_count": null,
   "metadata": {},
   "outputs": [],
   "source": [
    "import json\n",
    "\n",
    "book_data = {\n",
    "    \"title\": \"Python for Beginners\",\n",
    "    \"author\": \"Jane Smith\",\n",
    "    \"publication_year\": 2022,\n",
    "    \"genres\": [\n",
    "        \"Education\",\n",
    "        \"Programming\",\n",
    "        \"Technology\"\n",
    "    ],\n",
    "    \"ratings\": {\n",
    "        \"average_rating\": 4.7,\n",
    "        \"number_of_ratings\": 180\n",
    "    }\n",
    "}\n",
    "\n",
    "book_json = json.dumps(book_data, indent=4)\n",
    "print(book_json)\n",
    "\n",
    "book_data['ratings']['average_rating'] = 4.9\n",
    "\n",
    "updated_book_json = json.dumps(book_data, indent=4)\n",
    "print(updated_book_json)"
   ]
  },
  {
   "cell_type": "markdown",
   "metadata": {},
   "source": [
    "<h1 style=\"font-family: 'Comic Sans MS', cursive; font-size: 30px; color: #FF69B4; background-color: #FFF0F5; padding: 15px; border-radius: 10px; text-align: center; box-shadow: 2px 2px 5px rgba(0, 0, 0, 0.1);\">\n",
    "    Homework\n",
    "</h1>\n",
    "<p style=\"font-family: 'Comic Sans MS', cursive; font-size: 18px; color: #FF69B4; background-color: #E0FFFF; padding: 10px; border-radius: 10px; box-shadow: 2px 2px 5px rgba(0, 0, 0, 0.1);\">\n",
    "    1. Create a dictionary with at least 3 keys and 2 items. Print the dictionary. <br>\n",
    "    2. Start with this dictionary: `person = {\"name\": \"Alice\", \"age\": 30}` <br>\n",
    "    3. Update the age to 31 <br>\n",
    "    4. print the updated dictionary. <br>\n",
    "</p>\n"
   ]
  },
  {
   "cell_type": "markdown",
   "metadata": {},
   "source": [
    "<h1 style=\"font-family: 'Comic Sans MS', cursive; font-size: 30px; color: #FF69B4; background-color: #FFF0F5; padding: 15px; border-radius: 10px; text-align: center; box-shadow: 2px 2px 5px rgba(0, 0, 0, 0.1);\">\n",
    "    Grading for Hacks and Homework\n",
    "</h1>\n",
    "<ul style=\"font-family: 'Comic Sans MS', cursive; font-size: 18px; color: #FF69B4; background-color: #E0FFFF; padding: 15px; border-radius: 10px; box-shadow: 2px 2px 5px rgba(0, 0, 0, 0.1); list-style-type: disc;\">\n",
    "    <li style=\"padding-bottom: 10px;\">all requirements must be completed</li>\n",
    "    <li style=\"padding-bottom: 10px;\">be creative! go above and beyond when possible</li>\n",
    "        <li style=\"padding-bottom: 10px;\">show understanding by explaining your work</li>\n",
    "</ul>\n",
    "\n"
   ]
  }
 ],
 "metadata": {
  "kernelspec": {
   "display_name": "Python 3",
   "language": "python",
   "name": "python3"
  },
  "language_info": {
   "codemirror_mode": {
    "name": "ipython",
    "version": 3
   },
   "file_extension": ".py",
   "mimetype": "text/x-python",
   "name": "python",
   "nbconvert_exporter": "python",
   "pygments_lexer": "ipython3",
   "version": "3.9.7"
  }
 },
 "nbformat": 4,
 "nbformat_minor": 2
}
