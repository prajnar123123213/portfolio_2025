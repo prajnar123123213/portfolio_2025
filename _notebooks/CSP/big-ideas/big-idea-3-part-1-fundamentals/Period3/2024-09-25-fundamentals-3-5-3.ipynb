{
 "cells": [
  {
   "cell_type": "raw",
   "metadata": {
    "vscode": {
     "languageId": "raw"
    }
   },
   "source": [
    "---\n",
    "toc: false\n",
    "comments: true\n",
    "permalink: /csp/big-idea/p3/3-5-3\n",
    "layout: post\n",
    "title: 3.5 Booleans; All About Booleans (Period 3)\n",
    "description: Student led teaching on Booleans. Learn how booleans are used in decision-making with logical operators. \n",
    "categories: [CSP Big Ideas]\n",
    "author: Max G, Johan M, Trevor V\n",
    "menu: /nav/csp_units/csp_unit3_p3_fundamentals.html\n",
    "---"
   ]
  },
  {
   "cell_type": "markdown",
   "metadata": {},
   "source": [
    "# All About Booleans"
   ]
  },
  {
   "cell_type": "markdown",
   "metadata": {},
   "source": [
    "# What Are Booleans?\n",
    "In programming, a Boolean is a data type that can hold one of two values: true or false. These values are used to represent truth values, which are fundamental in controlling the flow of a program.\n",
    "\n",
    "# Basic Boolean Values\n",
    "True: Indicates a logically true condition.\n",
    "False: Indicates a logically false condition.\n",
    "# Boolean Expressions\n",
    "A Boolean expression is a statement that evaluates either true or false. Common Boolean expressions often involve comparison or relational operators, such as:\n",
    "\n",
    "Equal to (==)\n",
    "\n",
    "Not equal to (!=)\n",
    "\n",
    "Greater than (>)\n",
    "\n",
    "Less than (<)\n",
    "\n",
    "Greater than or equal to (>=)\n",
    "\n",
    "Less than or equal to (<=)\n",
    "\n"
   ]
  },
  {
   "cell_type": "code",
   "execution_count": 2,
   "metadata": {
    "vscode": {
     "languageId": "javascript"
    }
   },
   "outputs": [
    {
     "data": {
      "application/javascript": "\n// Example 1: Checking if a boolean is true\nconst variableA = true;\nconst variableB = false;\n\nif (variableA) {\n    console.log(\"VariableA is true!\");\n} else {\n    console.log(\"VariableA is false!\");\n}\n\nif (variableA && !variableB) {\n    console.log(\"VariableA is true and VariableB is false\");\n}\n\nif (variableA || variableB) {\n    console.log(\"Either VariableA or VariableB is true\");\n}\n",
      "text/plain": [
       "<IPython.core.display.Javascript object>"
      ]
     },
     "metadata": {},
     "output_type": "display_data"
    }
   ],
   "source": [
    "%%javascript\n",
    "\n",
    "// Example 1: Checking if a boolean is true\n",
    "\n",
    "const variableA = true;\n",
    "const variableB = false;\n",
    "\n",
    "if (variableA) {\n",
    "    console.log(\"VariableA is true!\");\n",
    "} else {\n",
    "    console.log(\"VariableA is false!\");\n",
    "}\n",
    "\n",
    "if (variableA && !variableB) {\n",
    "    console.log(\"VariableA is true and VariableB is false\");\n",
    "}\n",
    "\n",
    "if (variableA || variableB) {\n",
    "    console.log(\"Either VariableA or VariableB is true\");\n",
    "}\n"
   ]
  },
  {
   "cell_type": "code",
   "execution_count": 3,
   "metadata": {
    "vscode": {
     "languageId": "javascript"
    }
   },
   "outputs": [
    {
     "data": {
      "application/javascript": "\n// booleans in javascript\nconst number = 1;\n\nif (number > 10) {\n    console.log(\"Number is greater than ten!\");\n} else {\n    console.log(\"Number is not greater than ten!\");\n}\n",
      "text/plain": [
       "<IPython.core.display.Javascript object>"
      ]
     },
     "metadata": {},
     "output_type": "display_data"
    }
   ],
   "source": [
    "%%javascript\n",
    "\n",
    "// booleans in javascript\n",
    "const number = 1;\n",
    "\n",
    "if (number > 10) {\n",
    "    console.log(\"Number is greater than ten!\");\n",
    "} else {\n",
    "    console.log(\"Number is not greater than ten!\");\n",
    "}"
   ]
  },
  {
   "cell_type": "code",
   "execution_count": 4,
   "metadata": {
    "vscode": {
     "languageId": "javascript"
    }
   },
   "outputs": [
    {
     "data": {
      "application/javascript": "\n//Example of using Booleans with numbers in Python\n\nconst temperature = 105  \nis_hot = temperature > 100 //Boolean expression (WILL BE TRUE)\n\nconst number = 50\n\nif (number > 100) {\n    console.log(\"It's a a big number day!\")\n} else {\n    console.log(\"It's a small number\")\n}\n",
      "text/plain": [
       "<IPython.core.display.Javascript object>"
      ]
     },
     "metadata": {},
     "output_type": "display_data"
    }
   ],
   "source": [
    "%%javascript\n",
    "\n",
    "//Example of using Booleans with numbers in Python\n",
    "\n",
    "const temperature = 105  \n",
    "is_hot = temperature > 100 //Boolean expression (WILL BE TRUE)\n",
    "\n",
    "const number = 50\n",
    "\n",
    "if (number > 100) {\n",
    "    console.log(\"It's a a big number day!\")\n",
    "} else {\n",
    "    console.log(\"It's a small number\")\n",
    "}\n"
   ]
  },
  {
   "cell_type": "markdown",
   "metadata": {},
   "source": [
    "<style>\n",
    "    article {\n",
    "        background: linear-gradient(#0036ff, #00ffd3);\n",
    "        filter: drop-shadow(0 0 0.75rem gold);    \n",
    "    }\n",
    "    header {\n",
    "        z-index: 9999999\n",
    "    }\n",
    "</style>"
   ]
  }
 ],
 "metadata": {
  "kernelspec": {
   "display_name": "Python 3",
   "language": "python",
   "name": "python3"
  },
  "language_info": {
   "codemirror_mode": {
    "name": "ipython",
    "version": 3
   },
   "file_extension": ".py",
   "mimetype": "text/x-python",
   "name": "python",
   "nbconvert_exporter": "python",
   "pygments_lexer": "ipython3",
   "version": "3.11.1"
  }
 },
 "nbformat": 4,
 "nbformat_minor": 2
}
