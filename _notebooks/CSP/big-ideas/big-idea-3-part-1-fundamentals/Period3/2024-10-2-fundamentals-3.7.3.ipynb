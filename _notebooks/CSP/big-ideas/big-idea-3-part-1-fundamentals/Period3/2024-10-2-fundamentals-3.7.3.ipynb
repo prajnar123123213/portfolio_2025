{
 "cells": [
  {
   "cell_type": "markdown",
   "metadata": {},
   "source": [
    "---\n",
    "toc: false\n",
    "comments: true\n",
    "layout: post\n",
    "title: 3.7.3 Javascript Hacks\n",
    "description: Javascript example of nested conditionals\n",
    "permalink: /csp/big-idea/p3/3-7-3\n",
    "categories: [CSP Big Ideas]\n",
    "author:  Zoe, Rutvik, Avika, Jonah, Aarush\n",
    "menu: nav/csp_units/csp_unit3_p3_fundamentals.html\n",
    "---"
   ]
  },
  {
   "cell_type": "markdown",
   "metadata": {},
   "source": [
    "Here's an example of a javascript hack that simulates fitness levels. As you can see, the code utilizes `if` and `else statements`. `If statements` and `else statements` are commonly used together. `If statements` check if a statement is true, while `else statements` will check if it is false."
   ]
  },
  {
   "cell_type": "code",
   "execution_count": null,
   "metadata": {
    "vscode": {
     "languageId": "javascript"
    }
   },
   "outputs": [],
   "source": [
    "%%javascript\n",
    "function assessFitnessLevel(pushUps) {\n",
    "    let fitnessLevel;\n",
    "    if (pushUps >= 50) {\n",
    "        fitnessLevel = \"Elite\";\n",
    "    } else {\n",
    "        if (pushUps >= 30) {\n",
    "            fitnessLevel = \"Advanced\";\n",
    "        } else {\n",
    "            if (pushUps >= 15) {\n",
    "                fitnessLevel = \"Intermediate\";\n",
    "            } else {\n",
    "                if (pushUps >= 1) {\n",
    "                    fitnessLevel = \"Beginner\";\n",
    "                } else {\n",
    "                    fitnessLevel = \"Unfit\";\n",
    "                }\n",
    "            }\n",
    "        }\n",
    "    }\n",
    "    return fitnessLevel;\n",
    "}\n",
    "// Example usage\n",
    "const userPushUps = 28; // Change this value to test different inputs\n",
    "console.log(`Fitness Level: ${assessFitnessLevel(userPushUps)}`);"
   ]
  },
  {
   "cell_type": "markdown",
   "metadata": {},
   "source": [
    "## Javascript Hack\n",
    "- In this hack, the `if statement` works with the `else statement` to determine the user's fitness level. The `if statement` checks if the user has gotten more than the given number of pushups,  if it doesn't work,  the `else statement` will be executed. The `else statement` will check if the user has gotten less than the number of pushups, if it doesn't meet the requirements, the user will be classified as the lower level."
   ]
  },
  {
   "cell_type": "markdown",
   "metadata": {},
   "source": [
    "## Here's a short overview of nested conditionals:"
   ]
  },
  {
   "cell_type": "code",
   "execution_count": null,
   "metadata": {},
   "outputs": [],
   "source": [
    "if outer_condition:\n",
    "    # Code for when outer_condition is true\n",
    "    if inner_condition:\n",
    "        # Code for when both outer_condition and inner_condition are true\n",
    "    else:\n",
    "        # Code for when outer_condition is true but inner_condition is false\n",
    "else:\n",
    "    # Code for when outer_condition is false"
   ]
  },
  {
   "cell_type": "markdown",
   "metadata": {},
   "source": [
    "- Notice that there are `if` and `else statements` inside of the system which makes it so that those statements depend on the outer function to be true. This is what makes them nested conditionals"
   ]
  }
 ],
 "metadata": {
  "kernelspec": {
   "display_name": "Python 3.12.5 64-bit",
   "language": "python",
   "name": "python3"
  },
  "language_info": {
   "name": "python",
   "version": "3.12.5"
  },
  "orig_nbformat": 4,
  "vscode": {
   "interpreter": {
    "hash": "b0fa6594d8f4cbf19f97940f81e996739fb7646882a419484c72d19e05852a7e"
   }
  }
 },
 "nbformat": 4,
 "nbformat_minor": 2
}
