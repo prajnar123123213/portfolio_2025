{
 "cells": [
  {
   "cell_type": "raw",
   "metadata": {
    "vscode": {
     "languageId": "raw"
    }
   },
   "source": [
    "---\n",
    "toc: false\n",
    "comments: true\n",
    "layout: post\n",
    "permalink: /csp/big-idea/p3/3-3-3\n",
    "title: 3.3 Mathematical Expressions; Fibonacci Sequence (Period 3)\n",
    "description: Student led teaching on  Mathematical Expressions. Learn how mathematical expressions involve using arithmetic operators (like addition, subtraction, multiplication, and division) to perform calculations\n",
    "categories: [CSP Big Ideas]\n",
    "author: Max G, Johan M\n",
    "menu: /nav/csp_units/csp_unit3_p3_fundamentals.html\n",
    "---"
   ]
  },
  {
   "cell_type": "markdown",
   "metadata": {},
   "source": [
    "# Fibonacci Sequence Function (Python)"
   ]
  },
  {
   "cell_type": "code",
   "execution_count": 2,
   "metadata": {},
   "outputs": [
    {
     "name": "stdout",
     "output_type": "stream",
     "text": [
      "The 9th Fibonacci number is: 21\n"
     ]
    }
   ],
   "source": [
    "def fibonacci(n):\n",
    "    # Handle the base cases. These are also terms that have to be followed by the code.\n",
    "    if n <= 0:\n",
    "        return \"Input should be a positive integer.\"\n",
    "    elif n == 1:\n",
    "        return 0\n",
    "    elif n == 2:\n",
    "        return 1\n",
    "    \n",
    "    # Start with the first two Fibonacci numbers\n",
    "    fib_1, fib_2 = 0, 1\n",
    "    \n",
    "    # Use an iterative approach to find the nth Fibonacci number. This is the function that models the fibbonacci sequence.\n",
    "    for i in range(3, n+1):\n",
    "        fib_next = fib_1 + fib_2\n",
    "        fib_1, fib_2 = fib_2, fib_next\n",
    "    \n",
    "    return fib_2\n",
    "\n",
    "n = 9  \n",
    "result = fibonacci(n)\n",
    "print(f\"The {n}th Fibonacci number is: {result}\")"
   ]
  },
  {
   "cell_type": "markdown",
   "metadata": {},
   "source": [
    "<style>\n",
    "    article {\n",
    "        background: linear-gradient(#0036ff, #00ffd3);\n",
    "        filter: drop-shadow(0 0 0.75rem gold);    \n",
    "    }\n",
    "    header {\n",
    "        z-index: 9999999\n",
    "    }\n",
    "</style>"
   ]
  }
 ],
 "metadata": {
  "kernelspec": {
   "display_name": "Python 3",
   "language": "python",
   "name": "python3"
  },
  "language_info": {
   "codemirror_mode": {
    "name": "ipython",
    "version": 3
   },
   "file_extension": ".py",
   "mimetype": "text/x-python",
   "name": "python",
   "nbconvert_exporter": "python",
   "pygments_lexer": "ipython3",
   "version": "3.10.12"
  }
 },
 "nbformat": 4,
 "nbformat_minor": 2
}
