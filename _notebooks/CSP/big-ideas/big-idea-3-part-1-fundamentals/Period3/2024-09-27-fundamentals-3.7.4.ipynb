{
 "cells": [
  {
   "cell_type": "markdown",
   "metadata": {},
   "source": [
    "---\n",
    "toc: false\n",
    "comments: true\n",
    "layout: post\n",
    "title: 3.7.4 Hacks for Nested Conditionals (P3)\n",
    "description: Test your understanding of nested conditionals. This consists of two \"homework\" questions and examples of nested conditionals with explanation. There is also an explanation of why elif statements aren't \n",
    "permalink: /csp/big-idea/p3/3-7-4\n",
    "categories: [CSP Big Ideas]\n",
    "author:  Zoe, Avika, Rutvik, Jonah, Aarush\n",
    "menu: nav/csp_units/csp_unit3_p3_fundamentals.html\n",
    "---"
   ]
  },
  {
   "cell_type": "markdown",
   "metadata": {},
   "source": [
    "## Testing Your Skills (Hack #1)\n",
    "- Create a simple system using `if` and `else` statements that determines whether or not a user (based on their age) is eligible to vote\n",
    "- If the person is less than 18 years old, they should not be able to vote\n",
    "- If the person is 18 years old or older, they are able to vote \n",
    "- You should get something like this:"
   ]
  },
  {
   "cell_type": "code",
   "execution_count": 3,
   "metadata": {},
   "outputs": [],
   "source": [
    "def check_voting_eligibility(age):\n",
    "    \"\"\"Check if the user is eligible to vote based on age.\"\"\"\n",
    "    if age >= 18:\n",
    "        return \"You are eligible to vote.\"\n",
    "    else:\n",
    "        return \"You are not eligible to vote.\""
   ]
  },
  {
   "cell_type": "markdown",
   "metadata": {},
   "source": [
    "## Explanation\n",
    "- The if statement checks if the user's age is greater than or equal to 18. If they are 18, that means that the statement is true and will print \"You are eligible to vote.\" If the age requirement is not met, that means the statement will be false and the else statement will print \"You are not eligible to vote.\""
   ]
  },
  {
   "cell_type": "markdown",
   "metadata": {},
   "source": [
    "## Quick Quiz\n",
    "- What would the function output if the user's age was 16?\n",
    "- A: It would say, \"You are not eligible to vote.\"\n",
    "- When the age of the user is less than 18, what is the condition in the if statement?\n",
    "- A: age < 18, meaning that the statement is false\n",
    "- What is the purpose of the if statement in the function?\n",
    "- A: To check if the user is eligible to vote"
   ]
  },
  {
   "cell_type": "markdown",
   "metadata": {},
   "source": [
    "## Hack #2\n",
    "- Create a simple system using `if` and `else` statements that determines what the user would eat\n",
    "- If the person is healthy, make them eat an apple\n",
    "- If the person doesn't care about what they eat, make them drink coffee\n",
    "- If the person is unhealthy, make them eat chocolate\n",
    "- You should get something like this:"
   ]
  },
  {
   "cell_type": "code",
   "execution_count": 4,
   "metadata": {
    "vscode": {
     "languageId": "javascript"
    }
   },
   "outputs": [
    {
     "ename": "SyntaxError",
     "evalue": "invalid syntax (4079008279.py, line 1)",
     "output_type": "error",
     "traceback": [
      "\u001b[0;36m  File \u001b[0;32m\"/tmp/ipykernel_651935/4079008279.py\"\u001b[0;36m, line \u001b[0;32m1\u001b[0m\n\u001b[0;31m    // Get user input\u001b[0m\n\u001b[0m    ^\u001b[0m\n\u001b[0;31mSyntaxError\u001b[0m\u001b[0;31m:\u001b[0m invalid syntax\n"
     ]
    }
   ],
   "source": [
    "// Get user input\n",
    "let healthStatus = prompt(\"Are you healthy, unhealthy, or indifferent about food? (healthy/unhealthy/indifferent)\").toLowerCase();\n",
    "\n",
    "if (healthStatus === \"healthy\") {\n",
    "    console.log(\"You should eat an apple!\");\n",
    "} else {\n",
    "    // Check for the other conditions within the else block\n",
    "    if (healthStatus === \"unhealthy\") {\n",
    "        console.log(\"You should eat chocolate!\");\n",
    "    } else {\n",
    "        console.log(\"You don't care about what you eat. How about a coffee?\");\n",
    "    }\n",
    "}"
   ]
  },
  {
   "cell_type": "markdown",
   "metadata": {},
   "source": [
    "## Explanation\n",
    "- The if statement checks if the user's health status is \"healthy.\" If this condition is true, the program will print \"You should eat an apple!\" indicating a healthy choice.\n",
    "- If the health status is not \"healthy,\" the else statement is executed. Within this block, another if statement checks if the user's health status is \"unhealthy.\" If this condition is true, the program will print \"You should eat chocolate!\"\n",
    "- Lastly, if neither condition is met when the user doesn't care about what they eat, the else statement will execute, printing \"You don't care about what you eat. How about a coffee?\" This covers the case for users who are indifferent about their food choices. Keep in mind, you can also achieve this same result using `elif statements` instead of having to create chains of `if` and `else statements`. However, it's important to note that `elif statements` are NOT nested conditionals because they form a single-level structure."
   ]
  },
  {
   "cell_type": "code",
   "execution_count": null,
   "metadata": {},
   "outputs": [],
   "source": [
    "# Get user input\n",
    "health_status = input(\"Are you healthy, unhealthy, or indifferent about food? (healthy/unhealthy/indifferent): \").strip().lower()\n",
    "if health_status == \"healthy\":\n",
    "    print(\"You should eat an apple!\")\n",
    "elif health_status == \"unhealthy\":\n",
    "    print(\"You should eat chocolate!\")\n",
    "elif health_status == \"indifferent\":\n",
    "    print(\"You don't care about what you eat. How about a coffee?\")\n",
    "else:\n",
    "    print(\"Invalid input! Please enter 'healthy', 'unhealthy', or 'indifferent'.\")"
   ]
  },
  {
   "cell_type": "markdown",
   "metadata": {},
   "source": [
    "- Notice how there's no inner constructs with `elif statements`, which roughly demonstrates that these are not nested conditionals."
   ]
  },
  {
   "cell_type": "markdown",
   "metadata": {},
   "source": [
    "## Quick Quiz\n",
    "- What would the function output if the user's age was healthy?\n",
    "- A: It would say, \"You should eat an apple!\"\n",
    "- When the age of the user is unhealthy, what is the condition in the if statement?\n",
    "- A: Since the user is unhealthy, it doesn't meet the requirements for eating an apple, meaning that the statement is false\n",
    "- How can you use `elif statements` to replace the `if and else statement` chains?\n",
    "- A: You could get something like this:\n",
    "- Why are `elif statements` not nested conditionals?\n",
    "- A:  Because they are not nested and form a flat structure, they are not conditional statements"
   ]
  }
 ],
 "metadata": {
  "kernelspec": {
   "display_name": "Python 3.12.5 64-bit",
   "language": "python",
   "name": "python3"
  },
  "language_info": {
   "codemirror_mode": {
    "name": "ipython",
    "version": 3
   },
   "file_extension": ".py",
   "mimetype": "text/x-python",
   "name": "python",
   "nbconvert_exporter": "python",
   "pygments_lexer": "ipython3",
   "version": "3.10.12"
  },
  "vscode": {
   "interpreter": {
    "hash": "b0fa6594d8f4cbf19f97940f81e996739fb7646882a419484c72d19e05852a7e"
   }
  }
 },
 "nbformat": 4,
 "nbformat_minor": 2
}
