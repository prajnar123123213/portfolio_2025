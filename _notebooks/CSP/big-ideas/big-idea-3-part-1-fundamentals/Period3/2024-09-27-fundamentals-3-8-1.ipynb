{
 "cells": [
  {
   "cell_type": "raw",
   "metadata": {
    "vscode": {
     "languageId": "raw"
    }
   },
   "source": [
    "---\n",
    "toc: false\n",
    "comments: true\n",
    "layout: post\n",
    "title: \"3.8.1 Recursion Iteration and Nested For Loops P3\"\n",
    "description: My subsection for 3.8.1 group project P3\n",
    "permalink: /csp/big-idea/p3/3-8-1\n",
    "categories: [CSP Big Ideas]\n",
    "author:  Armaghan\n",
    "menu: nav/csp_units/csp_unit3_p3_fundamentals.html\n",
    "---"
   ]
  },
  {
   "cell_type": "markdown",
   "metadata": {},
   "source": [
    "## Basic Overview\n",
    "\n",
    "Recursion is a process in which a function calls itself as part of its execution. It is a powerful technique used to solve problems by breaking them down into simpler sub-problems of the same type.\n",
    "\n",
    "Recursion typically involves two essential parts:\n",
    "\n",
    "1. **Base case** – The condition that stops the recursion.\n",
    "2. **Recursive case** – The part where the function continues calling itself.\n"
   ]
  },
  {
   "cell_type": "markdown",
   "metadata": {},
   "source": [
    "# Pseudocode Explanation"
   ]
  },
  {
   "cell_type": "code",
   "execution_count": 2,
   "metadata": {
    "vscode": {
     "languageId": "sql"
    }
   },
   "outputs": [
    {
     "ename": "SyntaxError",
     "evalue": "invalid syntax (1118931696.py, line 1)",
     "output_type": "error",
     "traceback": [
      "\u001b[0;36m  Cell \u001b[0;32mIn[2], line 1\u001b[0;36m\u001b[0m\n\u001b[0;31m    Define a function factorial with parameter n\u001b[0m\n\u001b[0m           ^\u001b[0m\n\u001b[0;31mSyntaxError\u001b[0m\u001b[0;31m:\u001b[0m invalid syntax\n"
     ]
    }
   ],
   "source": [
    "Define a function factorial with parameter n\n",
    "  If n equals 0\n",
    "    Return 1\n",
    "  Else if n is less than 0\n",
    "    Return \"undefined\"\n",
    "  Else if n is a float\n",
    "    Return \"not solvable\"\n",
    "  Else\n",
    "    Return n multiplied by factorial of n-1\n",
    "\n",
    "Take user input as num\n",
    "Call factorial(num) and print the result"
   ]
  },
  {
   "cell_type": "markdown",
   "metadata": {
    "vscode": {
     "languageId": "raw"
    }
   },
   "source": [
    "# Python Example\n",
    "Here’s an example of a simple factorial function that uses recursion. It will keep calling itself, multiplying numbers, until the base case (when `n == 0`) is reached."
   ]
  },
  {
   "cell_type": "code",
   "execution_count": null,
   "metadata": {},
   "outputs": [
    {
     "name": "stdout",
     "output_type": "stream",
     "text": [
      "Factorial of 8 is 40320\n"
     ]
    }
   ],
   "source": [
    "# Function to calculate factorial\n",
    "def factorial(n):\n",
    "    # Base case: stop recursion when n is 0\n",
    "    if n == 0:  \n",
    "        return 1  # 0! is 1  \n",
    "    \n",
    "    # Handle negative input\n",
    "    elif n < 0:  \n",
    "        return \"undefined\"  # Undefined for negative numbers  \n",
    "    \n",
    "    # Handle non-integer input\n",
    "    elif isinstance(n, float):  \n",
    "        return \"not solvable without gamma function\"  # Only accept integers  \n",
    "    \n",
    "    # Recursive case: call the function again with (n-1)\n",
    "    else:  \n",
    "        return n * factorial(n - 1)  # Function calls itself with n-1  \n",
    "\n",
    "# Take user input for a number\n",
    "num = int(input(\"Enter a number to calculate its factorial: \"))  \n",
    "\n",
    "# Call the factorial function and print the result\n",
    "result = factorial(num)  \n",
    "print(f\"Factorial of {num} is\", result)\n"
   ]
  },
  {
   "cell_type": "markdown",
   "metadata": {},
   "source": [
    "# Javascript example"
   ]
  },
  {
   "cell_type": "code",
   "execution_count": null,
   "metadata": {
    "vscode": {
     "languageId": "javascript"
    }
   },
   "outputs": [
    {
     "data": {
      "application/javascript": "// Function to calculate factorial\nfunction factorial(n) {\n    if (n === 0) {\n        return 1;  // Base case: 0! is 1\n    } else if (n < 0) {\n        return \"undefined\";  // Handle negative numbers\n    } else if (Math.floor(n) !== n) {\n        return \"not solvable without gamma function\";  // Handle non-integers\n    } else {\n        return n * factorial(n - 1);  // Recursive case\n    }\n}\n\n// Example usage\nlet num = 4;  // Number to calculate factorial for\nconsole.log(\"Factorial of \" + num + \" is \" + factorial(num));  // Output the result\n",
      "text/plain": [
       "<IPython.core.display.Javascript object>"
      ]
     },
     "metadata": {},
     "output_type": "display_data"
    }
   ],
   "source": [
    "%%javascript\n",
    "// Function to calculate factorial\n",
    "function factorial(n) {\n",
    "    if (n === 0) {\n",
    "        return 1;  // Base case: 0! is 1\n",
    "    } else if (n < 0) {\n",
    "        return \"undefined\";  // Handle negative numbers\n",
    "    } else if (Math.floor(n) !== n) {\n",
    "        return \"not solvable without gamma function\";  // Handle non-integers\n",
    "    } else {\n",
    "        return n * factorial(n - 1);  // Recursive case\n",
    "    }\n",
    "}\n",
    "\n",
    "// Example usage\n",
    "let num = 4;  // Number to calculate factorial for\n",
    "console.log(\"Factorial of \" + num + \" is \" + factorial(num));  // Output the result"
   ]
  },
  {
   "cell_type": "markdown",
   "metadata": {},
   "source": [
    "# Notes\n",
    "- **Base Case**: The function checks if `n` is 0 and returns 1, stopping further recursion.\n",
    "- **Recursive Case**: For any other positive integer, it returns `n` multiplied by the factorial of `n-1`, continuing the process."
   ]
  },
  {
   "cell_type": "markdown",
   "metadata": {},
   "source": [
    "## What is Happening\n",
    "\n",
    "- **Factorial Function**: The function checks if `n` is zero (base case), then returns 1. For any other positive integer, it multiplies `n` by the factorial of `n-1`, recursively.\n",
    "\n",
    "- **Stopping Condition**: The recursion stops when `n` reaches 0.\n",
    "\n",
    "- **Negative Input Handling**: In this example, negative numbers return `\"undefined\"`, and floats return a message indicating they are not supported without a gamma function.\n"
   ]
  },
  {
   "cell_type": "markdown",
   "metadata": {},
   "source": [
    "# Overview of Nested For Loops\n",
    "A **nested for loop** occurs when a for loop is placed inside another for loop. This structure allows us to perform repeated actions within multiple layers, making it useful when working with multi-dimensional data, such as matrices or grids.\n",
    "\n",
    "- The **outer loop** controls the number of iterations for the overall process.\n",
    "- The **inner loop** runs completely for each iteration of the outer loop, meaning it executes once for each value of the outer loop.\n"
   ]
  },
  {
   "cell_type": "markdown",
   "metadata": {},
   "source": [
    "### Python Example:"
   ]
  },
  {
   "cell_type": "code",
   "execution_count": null,
   "metadata": {},
   "outputs": [
    {
     "name": "stdout",
     "output_type": "stream",
     "text": [
      "Armaghan is always coding\n",
      "Elliot is always coding\n",
      "Armaghan and Elliot loves to Code Code Code!\n",
      "Nikhil is always coding\n",
      "Hithin is always coding\n",
      "Nikhil and Hithin loves to Code Code Code!\n"
     ]
    }
   ],
   "source": [
    "# List of groups\n",
    "groups = [['Armaghan', 'Elliot'], ['Nikhil', 'Hithin']]\n",
    "\n",
    "# Nested loop to go through each person in each group\n",
    "for pair in groups:\n",
    "    for person in pair:\n",
    "        print(person + ' is always coding')\n",
    "    # Final message after each group\n",
    "    print(pair[0] + ' and ' + pair[1] + ' loves to Code Code Code!')"
   ]
  },
  {
   "cell_type": "markdown",
   "metadata": {},
   "source": [
    "# Notes:\n",
    "- This hack shows how nested loops can be used to loop through multiple levels of data.\n",
    "- The outer loop goes through the groups, while the inner loop goes through the people in each group."
   ]
  },
  {
   "cell_type": "markdown",
   "metadata": {},
   "source": [
    "\n",
    "## Popcorn Hack for Recursion\n",
    "\n",
    "### Instructions:\n",
    "1. Create a function to calculate the factorial of a number.\n",
    "2. Inside the function, use recursion (calling the function within itself) to continue the calculation.\n",
    "3. Display the result of the factorial calculation along with a custom message.\n",
    "4. Ensure to handle base cases and edge cases like negative or non-integer inputs.\n",
    "5. Find the factorial of any number ranging from 9-13 and make sure the output message makes sense.\n"
   ]
  },
  {
   "cell_type": "markdown",
   "metadata": {},
   "source": [
    "### Python Example:"
   ]
  },
  {
   "cell_type": "code",
   "execution_count": null,
   "metadata": {},
   "outputs": [
    {
     "name": "stdout",
     "output_type": "stream",
     "text": [
      "The factorial of 9 is 362880!\n"
     ]
    }
   ],
   "source": [
    "# Recursive function to calculate factorial\n",
    "def factorial(n):\n",
    "    if n == 0:  # Base case: stop recursion at 0\n",
    "        return 1\n",
    "    elif n < 0:  # Edge case: Handle negative numbers\n",
    "        return \"undefined\"\n",
    "    elif isinstance(n, float):  # Edge case: Handle non-integers\n",
    "        return \"not solvable without gamma function\"\n",
    "    else:\n",
    "        return n * factorial(n - 1)  # Recursive case\n",
    "\n",
    "# Example use case with recursion\n",
    "result = factorial(9)\n",
    "print(f\"The factorial of 9 is {result}!\")\n"
   ]
  },
  {
   "cell_type": "markdown",
   "metadata": {},
   "source": [
    "# Popcorn Hack 2"
   ]
  },
  {
   "cell_type": "code",
   "execution_count": null,
   "metadata": {},
   "outputs": [
    {
     "name": "stdout",
     "output_type": "stream",
     "text": [
      "Numbers divisible by 3:\n",
      "3\n",
      "6\n",
      "9\n",
      "12\n",
      "15\n",
      "18\n"
     ]
    }
   ],
   "source": [
    "# Create an empty list\n",
    "nums = []\n",
    "\n",
    "# Get user input for how many numbers they want to add\n",
    "num_of_inputs = int(input(\"How many numbers do you want to add to the list? \"))\n",
    "\n",
    "# Use a loop to get inputs and append them to the list\n",
    "for _ in range(num_of_inputs):\n",
    "    number = int(input(\"Enter a number: \"))\n",
    "    nums.append(number)\n",
    "\n",
    "# Use a for loop to iterate through the list and check divisibility by 3\n",
    "print(\"Numbers divisible by 3:\")\n",
    "for num in nums:\n",
    "    if num % 3 == 0:  # Nested if statement to check divisibility by 3\n",
    "        print(num)"
   ]
  },
  {
   "cell_type": "markdown",
   "metadata": {},
   "source": [
    "- Find numbers divisible by 2."
   ]
  },
  {
   "cell_type": "code",
   "execution_count": null,
   "metadata": {},
   "outputs": [
    {
     "data": {
      "text/html": [
       "\n",
       "<style>\n",
       "  /* Style for the body */\n",
       "  body {\n",
       "    background-color: #1e1e1e; /* Dark background */\n",
       "    color: #f0f0f0; /* Light text */\n",
       "    font-family: 'Roboto', sans-serif; /* Modern font */\n",
       "    line-height: 1.6; /* Improved readability */\n",
       "    padding: 20px; /* Padding around the content */\n",
       "  }\n",
       "\n",
       "  /* Style for code blocks */\n",
       "  pre {\n",
       "    background-color: #2e2e2e; /* Slightly lighter background for code blocks */\n",
       "    border-left: 5px solid #4caf50; /* Green border for code blocks */\n",
       "    padding: 10px; /* Padding inside the code blocks */\n",
       "    font-family: 'Courier New', monospace; /* Monospaced font for code */\n",
       "    color: #f0f0f0; /* Light text */\n",
       "  }\n",
       "\n",
       "  /* Style for headings */\n",
       "  h1, h2, h3, h4, h5, h6 {\n",
       "    color: #4caf50; /* Green color for headings */\n",
       "    font-weight: bold; /* Bold headings */\n",
       "  }\n",
       "\n",
       "  /* Style for links */\n",
       "  a {\n",
       "    color: #4caf50; /* Green color for links */\n",
       "    text-decoration: none; /* No underline */\n",
       "  }\n",
       "  a:hover {\n",
       "    text-decoration: underline; /* Underline on hover */\n",
       "  }\n",
       "\n",
       "  /* Custom button styling */\n",
       "  .button {\n",
       "    background-color: #4caf50; /* Green button background */\n",
       "    border: none;\n",
       "    color: white;\n",
       "    padding: 10px 20px;\n",
       "    text-align: center;\n",
       "    text-decoration: none;\n",
       "    display: inline-block;\n",
       "    font-size: 16px;\n",
       "    margin: 4px 2px;\n",
       "    cursor: pointer;\n",
       "    border-radius: 8px; /* Rounded corners */\n",
       "  }\n",
       "\n",
       "  /* Responsive adjustments */\n",
       "  @media (max-width: 600px) {\n",
       "    body {\n",
       "      padding: 10px; /* Smaller padding on small screens */\n",
       "    }\n",
       "    .button {\n",
       "      font-size: 14px; /* Smaller font for buttons on small screens */\n",
       "    }\n",
       "  }\n",
       "</style>\n"
      ],
      "text/plain": [
       "<IPython.core.display.HTML object>"
      ]
     },
     "execution_count": 1,
     "metadata": {},
     "output_type": "execute_result"
    }
   ],
   "source": [
    "from IPython.core.display import HTML\n",
    "\n",
    "# Inject CSS into the Jupyter Notebook\n",
    "HTML('''\n",
    "<style>\n",
    "  /* Style for the body */\n",
    "  body {\n",
    "    background-color: #1e1e1e; /* Dark background */\n",
    "    color: #f0f0f0; /* Light text */\n",
    "    font-family: 'Roboto', sans-serif; /* Modern font */\n",
    "    line-height: 1.6; /* Improved readability */\n",
    "    padding: 20px; /* Padding around the content */\n",
    "  }\n",
    "\n",
    "  /* Style for code blocks */\n",
    "  pre {\n",
    "    background-color: #2e2e2e; /* Slightly lighter background for code blocks */\n",
    "    border-left: 5px solid #4caf50; /* Green border for code blocks */\n",
    "    padding: 10px; /* Padding inside the code blocks */\n",
    "    font-family: 'Courier New', monospace; /* Monospaced font for code */\n",
    "    color: #f0f0f0; /* Light text */\n",
    "  }\n",
    "\n",
    "  /* Style for headings */\n",
    "  h1, h2, h3, h4, h5, h6 {\n",
    "    color: #4caf50; /* Green color for headings */\n",
    "    font-weight: bold; /* Bold headings */\n",
    "  }\n",
    "\n",
    "  /* Style for links */\n",
    "  a {\n",
    "    color: #4caf50; /* Green color for links */\n",
    "    text-decoration: none; /* No underline */\n",
    "  }\n",
    "  a:hover {\n",
    "    text-decoration: underline; /* Underline on hover */\n",
    "  }\n",
    "\n",
    "  /* Custom button styling */\n",
    "  .button {\n",
    "    background-color: #4caf50; /* Green button background */\n",
    "    border: none;\n",
    "    color: white;\n",
    "    padding: 10px 20px;\n",
    "    text-align: center;\n",
    "    text-decoration: none;\n",
    "    display: inline-block;\n",
    "    font-size: 16px;\n",
    "    margin: 4px 2px;\n",
    "    cursor: pointer;\n",
    "    border-radius: 8px; /* Rounded corners */\n",
    "  }\n",
    "\n",
    "  /* Responsive adjustments */\n",
    "  @media (max-width: 600px) {\n",
    "    body {\n",
    "      padding: 10px; /* Smaller padding on small screens */\n",
    "    }\n",
    "    .button {\n",
    "      font-size: 14px; /* Smaller font for buttons on small screens */\n",
    "    }\n",
    "  }\n",
    "</style>\n",
    "''')"
   ]
  }
 ],
 "metadata": {
  "kernelspec": {
   "display_name": "venv",
   "language": "python",
   "name": "python3"
  },
  "language_info": {
   "codemirror_mode": {
    "name": "ipython",
    "version": 3
   },
   "file_extension": ".py",
   "mimetype": "text/x-python",
   "name": "python",
   "nbconvert_exporter": "python",
   "pygments_lexer": "ipython3",
   "version": "3.12.7"
  }
 },
 "nbformat": 4,
 "nbformat_minor": 2
}
