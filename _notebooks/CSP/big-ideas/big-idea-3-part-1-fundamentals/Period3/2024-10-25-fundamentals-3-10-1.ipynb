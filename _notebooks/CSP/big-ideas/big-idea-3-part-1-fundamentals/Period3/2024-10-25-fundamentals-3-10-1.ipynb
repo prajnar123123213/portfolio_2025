{
 "cells": [
  {
   "cell_type": "raw",
   "metadata": {
    "vscode": {
     "languageId": "raw"
    }
   },
   "source": [
    "---\n",
    "toc: false\n",
    "comments: true\n",
    "layout: post\n",
    "title: 3.10 Python Lists and Intro \n",
    "description: This is student-led teaching on lists! Here you'll learn how to manipulate individual elements or items in a list using indexing.\n",
    "permalink: /csp/big-idea/p3/3-10-1\n",
    "categories: [CSP Big Ideas]\n",
    "author:  Ryan Nguyen and Yash Patil \n",
    "menu: nav/csp_units/csp_unit3_p3_fundamentals.html\n",
    "---"
   ]
  },
  {
   "cell_type": "markdown",
   "metadata": {},
   "source": [
    "<div style=\"border: 2px solid #4CAF50; padding: 15px; border-radius: 10px;\">\n",
    "\n",
    "<span style=\"color: #87CEFA;\">Welcome to Lesson 3.10! 🎉</span>\n",
    "\n",
    "In this lesson, we will focus on **Python Lists** and **JavaScript Arrays** (a type of list). The emphasis will be on completing hacks in both languages.\n",
    "\n",
    "Time Expectations:\n",
    "- ⏳ **Popcorn Hacks**: ~20-30 minutes in class\n",
    "- 📚 **Homework**: ~30 minutes, consisting of 3 tasks\n",
    "- **Submission**: Remember to submit **both** the popcorn hacks we gave to you in-class and the actual homework that was assigned.\n",
    "\n",
    "Good luck and happy coding!\n",
    "</div>\n"
   ]
  },
  {
   "cell_type": "markdown",
   "metadata": {},
   "source": [
    "<div style=\"border: 2px solid #4CAF50; padding: 15px; border-radius: 10px;\">\n",
    "\n",
    "<span style=\"color: #87CEFA;\">Python List Basics 🐍</span>\n",
    "\n",
    "In the context of Python, a list is a **collection of items** that are both **ordered** and **mutable** (changeable). Python lists support a variety of data types, such as:\n",
    "- **Integers** (whole numbers)\n",
    "- **Strings**\n",
    "- **Decimal numbers** \n",
    "\n",
    "To create a Python list, use **square brackets** `[]`. The items inside the brackets should be separated by **commas**.\n",
    "\n",
    "</div>\n"
   ]
  },
  {
   "cell_type": "code",
   "execution_count": null,
   "metadata": {},
   "outputs": [],
   "source": [
    "my_list = [1, 2, 3, 'string', 4.78]\n",
    "print(my_list) ## This will print what is contained inside of the square brackets. Notice how the string is contained within quotation marks."
   ]
  },
  {
   "cell_type": "markdown",
   "metadata": {},
   "source": [
    "<div style=\"border: 2px solid #4CAF50; padding: 15px; border-radius: 10px;\">\n",
    "\n",
    "<span style=\"color: #87CEFA;\">Accessing and Modifying Python Lists 🎯</span>\n",
    "\n",
    "When you want to reference a specific element in a Python list, you use its **index**. Python lists start at an index of **0**, meaning the **first item** is at index 0 when reading left to right. \n",
    "\n",
    "To avoid confusion, you can think of it as subtracting one from the item's position (e.g., position 5 becomes index 4). You can also use **negative indexing** to reference items from right to left, starting at **-1**.\n",
    "\n",
    "Since Python lists are **mutable**, you can modify the value of a specific element by referencing its index. For example, in a list named `my_list`, you can change the second element by setting `my_list[1] = \"new_value\"`.\n",
    "\n",
    "</div>\n"
   ]
  },
  {
   "cell_type": "code",
   "execution_count": null,
   "metadata": {},
   "outputs": [],
   "source": [
    "my_list = [1, 2, 3, 'string', 4.78]\n",
    "first_item = my_list[0]  # 1\n",
    "last_item = my_list[-1]   # 4.78 (negative index counts from the end)\n",
    "\n",
    "my_list[1] = 'banana'  # Now my_list is [1, 'banana', 3, 'string', 4.78]. \n"
   ]
  },
  {
   "cell_type": "markdown",
   "metadata": {},
   "source": [
    "<div style=\"border: 2px solid #D8BFD8; padding: 15px; border-radius: 10px;\">\n",
    "\n",
    "<span style=\"color: #87CEFA;\">Adding and Removing Items/Elements ✨</span>\n",
    "\n",
    "- If you would like to add an item to the end of your list, use the `.append()` method. This is typically placed after the name of your list, since the period (.) allows you to access certain properties within the list. `.insert()` is also another way, but it instead inserts the element at a particular index. The formatting is similar but instead you would format it as `(index #, insert something here)`. Conversely, you can use the `.remove` method to remove an element the first time it occurs in a list. \n",
    "\n",
    "</div>\n"
   ]
  },
  {
   "cell_type": "code",
   "execution_count": null,
   "metadata": {},
   "outputs": [],
   "source": [
    "my_list = [1, 2, 3, 'string', 4.78]\n",
    "my_list.append('orange')  # Adds 'orange' to the end\n",
    "my_list.insert(2, 'grape')  # Inserts 'grape' at index 2\n",
    "\n",
    "my_list.remove('3')  # Removes 3\n"
   ]
  },
  {
   "cell_type": "markdown",
   "metadata": {},
   "source": [
    "<div style=\"border: 2px solid #D8BFD8; padding: 15px; border-radius: 10px;\">\n",
    "\n",
    "<span style=\"color: #87CEFA;\">Checking for Existence 👁️👁️</span>\n",
    "\n",
    "Checking for the existence of an element is simple! All you need to do is use the keywords \"in\" or \"not in.\" Usually, this is paired with a print statement, in which the user receives a prompt that \"_ doesn't exist.\" You can also pair this with a for loop! Examples and explanations in \"Iterations.\"\n",
    "\n",
    "</div>\n"
   ]
  },
  {
   "cell_type": "code",
   "execution_count": null,
   "metadata": {},
   "outputs": [],
   "source": [
    "fruits = ['apple', 'banana', 'cherry']\n",
    "\n",
    "# Check for existence\n",
    "if 'banana' in fruits:\n",
    "    print(\"Banana is in the list!\")\n",
    "else:\n",
    "    print(\"Banana is not in the list.\")"
   ]
  },
  {
   "cell_type": "markdown",
   "metadata": {},
   "source": [
    "<div style=\"border: 2px solid #D8BFD8; padding: 15px; border-radius: 10px;\">\n",
    "\n",
    "<span style=\"color: #87CEFA;\">Iterations 🔁</span>\n",
    "\n",
    "A for loop is the typical way iterations are done, not just in the context of Python lists. For loops *iterate* (go through each element and perform some kind of operation) through the list or sequence. You can also use while loops, but the formatting is slightly different. While loops will continue to run as long as a given condition is true, which is a key difference between a for loop and while loop.\n",
    "\n",
    "</div>\n"
   ]
  },
  {
   "cell_type": "code",
   "execution_count": null,
   "metadata": {},
   "outputs": [],
   "source": [
    "fruits = ['apple', 'banana', 'cherry']\n",
    "\n",
    "for fruit in fruits:\n",
    "    print(fruit) ## For loop \n",
    "    \n",
    "i = 0\n",
    "while i < len(fruits):\n",
    "    print(fruits[i])\n",
    "    i += 1 ## While loop\n",
    "\n",
    "\n"
   ]
  },
  {
   "cell_type": "markdown",
   "metadata": {
    "vscode": {
     "languageId": "raw"
    }
   },
   "source": [
    "<div style=\"border: 2px solid #D8BFD8; padding: 15px; border-radius: 10px;\">\n",
    "\n",
    "<span style=\"color: #87CEFA;\">More Examples If You're Stuck! ➕</span>\n",
    "\n",
    "\n",
    "</div>\n"
   ]
  },
  {
   "cell_type": "raw",
   "metadata": {
    "vscode": {
     "languageId": "raw"
    }
   },
   "source": [
    "If you're a little lost on how to use a python list, below is an example that combines some of the operations and topics discussed in 3.10. "
   ]
  },
  {
   "cell_type": "code",
   "execution_count": null,
   "metadata": {},
   "outputs": [],
   "source": [
    "# Creating a list of colors\n",
    "colors = ['red', 'blue', 'green']\n",
    "\n",
    "# Modifying the list\n",
    "colors.append('yellow')  # Adds 'yellow' to the end\n",
    "colors.insert(1, 'orange')  # Inserts 'orange' at index 1\n",
    "print(colors)  # ['red', 'orange', 'blue', 'green', 'yellow']\n",
    "\n",
    "# Removing an element\n",
    "colors.remove('blue') # Removes 'blue'\n",
    "print(colors)  # ['red', 'orange', 'green', 'yellow']\n",
    "\n",
    "# Checking for existence\n",
    "if 'orange' in colors:\n",
    "    print(\"Orange is in the list!\") \n",
    "\n",
    "# Iterating over the list\n",
    "for color in colors:\n",
    "    print(color)  # Prints each color\n"
   ]
  },
  {
   "cell_type": "markdown",
   "metadata": {},
   "source": [
    "<div style=\"border: 2px solid #D8BFD8; padding: 15px; border-radius: 10px;\">\n",
    "\n",
    "<span style=\"color: #87CEFA;\">Popcorn Hack (Classwork) 🍿</span>\n",
    "\n",
    "- Create a list of your choosing. \n",
    "- Remove the last element or item in that list.\n",
    "- Remove the first element or item in that list.\n",
    "- Remove an element or item in the list that has a different index than the first or last element/item. \n",
    "- Print the final list.\n",
    "\n",
    "</div>\n"
   ]
  }
 ],
 "metadata": {
  "kernelspec": {
   "display_name": "Python 3.12.5 64-bit",
   "language": "python",
   "name": "python3"
  },
  "language_info": {
   "name": "python",
   "version": "3.12.5"
  },
  "vscode": {
   "interpreter": {
    "hash": "b0fa6594d8f4cbf19f97940f81e996739fb7646882a419484c72d19e05852a7e"
   }
  }
 },
 "nbformat": 4,
 "nbformat_minor": 2
}
