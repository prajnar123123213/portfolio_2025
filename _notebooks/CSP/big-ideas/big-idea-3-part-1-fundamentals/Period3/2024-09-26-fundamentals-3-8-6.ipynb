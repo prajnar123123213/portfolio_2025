{
 "cells": [
  {
   "cell_type": "raw",
   "metadata": {
    "vscode": {
     "languageId": "raw"
    }
   },
   "source": [
    "---\n",
    "toc: false\n",
    "comments: true\n",
    "layout: post\n",
    "title: 3.8 Iterating over a list using loops\n",
    "description: Learn how to iterate over a list. \n",
    "permalink: /csp/big-idea/p3/3-8-6\n",
    "categories: [CSP Big Ideas]\n",
    "author:  Nikhil, Hithin, Armaghan, Elliot\n",
    "menu: nav/csp_units/csp_unit3_p3_fundamentals.html\n",
    "---"
   ]
  },
  {
   "cell_type": "markdown",
   "metadata": {},
   "source": [
    "## Basic Overview:\n",
    "- We create a list of numbers: `[1, 2, 3, 4, 5]`.\n",
    "- A `for` loop iterates over each item in the list.\n",
    "- The loop prints each item in the list."
   ]
  },
  {
   "cell_type": "markdown",
   "metadata": {},
   "source": [
    "## What's Happening:\n",
    "In this lesson, we learn how to iterate over a list using loops. A list is a collection of items, and a loop allows us to access each item one by one. In this example, we use a `for` loop to iterate over a list of numbers, and the loop prints each number from the list. The same concept can be applied to any collection, such as a list of favorite foods, which you can display using a loop."
   ]
  },
  {
   "cell_type": "code",
   "execution_count": 1,
   "metadata": {},
   "outputs": [
    {
     "name": "stdout",
     "output_type": "stream",
     "text": [
      "1\n",
      "2\n",
      "3\n",
      "4\n",
      "5\n"
     ]
    }
   ],
   "source": [
    "# Pseudocode:\n",
    "# numbers ← [1, 2, 3, 4, 5]\n",
    "# FOR EACH number IN numbers:\n",
    "#     DISPLAY number\n",
    "# END FOR\n",
    "\n",
    "# Python Code:\n",
    "numbers = [1, 2, 3, 4, 5]\n",
    "for number in numbers:\n",
    "    print(number)\n",
    "\n",
    "#Problem: Looping Through a List\n",
    "#Create a list of your three favorite foods. Write a loop to display each food item in the list.\n"
   ]
  },
  {
   "cell_type": "markdown",
   "metadata": {},
   "source": [
    "## Additional Notes:\n",
    "- **Lists**: A list is a sequence of items stored together in a single variable. You can store numbers, strings, or even other lists inside a list.\n",
    "- **For Loop**: The `for` loop is commonly used to iterate over elements in a collection, such as a list. This loop automatically moves through the collection, one item at a time, until all items have been processed.\n",
    "- **Use Case**: Iterating over a list is helpful when you need to perform the same operation on each item, like printing, modifying, or checking conditions."
   ]
  }
 ],
 "metadata": {
  "kernelspec": {
   "display_name": "base",
   "language": "python",
   "name": "python3"
  },
  "language_info": {
   "codemirror_mode": {
    "name": "ipython",
    "version": 3
   },
   "file_extension": ".py",
   "mimetype": "text/x-python",
   "name": "python",
   "nbconvert_exporter": "python",
   "pygments_lexer": "ipython3",
   "version": "3.12.7"
  }
 },
 "nbformat": 4,
 "nbformat_minor": 2
}
