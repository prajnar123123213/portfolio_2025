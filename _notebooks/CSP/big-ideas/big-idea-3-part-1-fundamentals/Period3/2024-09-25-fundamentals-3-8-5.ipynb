{
 "cells": [
  {
   "cell_type": "raw",
   "metadata": {
    "vscode": {
     "languageId": "raw"
    }
   },
   "source": [
    "---\n",
    "toc: false\n",
    "comments: true\n",
    "layout: post\n",
    "title: 3.8 Nested If statements\n",
    "description: Learn about nested if statements in loops\n",
    "permalink: /csp/big-idea/p3/3-8-5\n",
    "categories: [CSP Big Ideas]\n",
    "author:  Nikhil, Hithin, Armaghan, Elliot\n",
    "menu: nav/csp_units/csp_unit3_p3_fundamentals.html\n",
    "---"
   ]
  },
  {
   "cell_type": "markdown",
   "metadata": {},
   "source": [
    "### Basic Overview:\n",
    "\n",
    "- A **nested if statement** is an if statement placed inside another if, else if, or even a loop.\n",
    "- You can use nested if statements inside a for loop to perform multiple condition checks.\n",
    "- A **for loop** iterates through a collection (like a list) and checks various conditions using if statements in each iteration.\n",
    "- Based on the condition results, the corresponding code is executed."
   ]
  },
  {
   "cell_type": "code",
   "execution_count": 1,
   "metadata": {},
   "outputs": [
    {
     "name": "stdout",
     "output_type": "stream",
     "text": [
      "1 is odd\n",
      "2 is even and less than or equal to 5\n",
      "3 is odd\n",
      "4 is even and less than or equal to 5\n",
      "5 is odd\n",
      "6 is even and greater than 5\n",
      "7 is odd\n",
      "8 is even and greater than 5\n",
      "9 is odd\n",
      "10 is even and greater than 5\n"
     ]
    }
   ],
   "source": [
    "numbers = [1, 2, 3, 4, 5, 6, 7, 8, 9, 10]\n",
    "\n",
    "\n",
    "for num in numbers:\n",
    "    if num % 2 == 0:  # Check if the number is even\n",
    "        if num > 5:  # Another condition inside the first if statement\n",
    "            print(num, \"is even and greater than 5\")\n",
    "        else:\n",
    "            print(num, \"is even and less than or equal to 5\")\n",
    "    else:  # If it's not even, it must be odd\n",
    "        print(num, \"is odd\")\n"
   ]
  },
  {
   "cell_type": "markdown",
   "metadata": {},
   "source": [
    "<h2>Practice Problem<h2>\n",
    "    <p style=\"font-size: 20px;\">Here, there are four numbers listed. Using your knowledge of nested if statements, write code that will print the positive numbers in one group and the negative numbers as one group.\n",
    "     <ul>Helpful Hints\n",
    "            <li>the command that checks if a number is negative is \"if num<0\"\n",
    "       "
   ]
  },
  {
   "cell_type": "code",
   "execution_count": 2,
   "metadata": {},
   "outputs": [],
   "source": [
    "# List of numbers\n",
    "numbers = [10, -5, 7, -3]\n",
    "\n",
    "# Your task: Write a loop with nested if statements to print whether each number is positive or negative\n"
   ]
  },
  {
   "cell_type": "code",
   "execution_count": 3,
   "metadata": {},
   "outputs": [
    {
     "name": "stdout",
     "output_type": "stream",
     "text": [
      "0 is zero\n",
      "-3 is negative\n",
      "5 is positive and odd\n",
      "-8 is negative\n",
      "2 is positive and even\n",
      "0 is zero\n",
      "7 is positive and odd\n",
      "-1 is negative\n"
     ]
    }
   ],
   "source": [
    "# <h2> Answer to the Practice Problem </h2>\n",
    "\n",
    "numbers = [0, -3, 5, -8, 2, 0, 7, -1]\n",
    "for num in numbers:\n",
    "    if num == 0:  # Check if the number is zero\n",
    "        print(num, \"is zero\")\n",
    "    else:\n",
    "        if num > 0:  # Check if the number is positive\n",
    "            if num % 2 == 0:  # Nested if to check if it's even\n",
    "                print(num, \"is positive and even\")\n",
    "            else:  # If it's not even, it must be odd\n",
    "                print(num, \"is positive and odd\")\n",
    "        else:  # If it's not positive, it must be negative\n",
    "            print(num, \"is negative\")"
   ]
  },
  {
   "cell_type": "markdown",
   "metadata": {},
   "source": [
    "### What is Happening:\n",
    "- The code loops through a list of numbers.\n",
    "- For each number, it first checks if the number is even.\n",
    "  - If even, it checks if the number is greater than 5.\n",
    "  - If the number is not greater than 5, it prints that it is even and ≤ 5.\n",
    "- If the number is odd, it simply prints that the number is odd."
   ]
  },
  {
   "cell_type": "markdown",
   "metadata": {},
   "source": [
    "### Additional Notes:\n",
    "\n",
    "- **Multiple Conditions**: Nested if statements allow you to add layers of condition checks, which is helpful when you want to ensure that several criteria are met before executing certain code.\n",
    "- **Code Readability**: While nested if statements provide flexibility, too many levels of nesting can make the code harder to read. Always try to keep nesting simple and clear.\n",
    "- **Real-World Use**: Nested if statements are commonly used in scenarios where decisions need to be made based on multiple criteria, such as filtering or categorizing data."
   ]
  },
  {
   "cell_type": "code",
   "execution_count": null,
   "metadata": {},
   "outputs": [],
   "source": [
    "from IPython.core.display import HTML\n",
    "\n",
    "# Custom CSS for styling the notebook\n",
    "style = \"\"\"\n",
    "<style>\n",
    "/* Soothing purple background for the notebook */\n",
    "body {\n",
    "    background-color: #f3e8ff;\n",
    "    color: #333;\n",
    "}\n",
    "\n",
    "/* Style for code cells */\n",
    "div.code_cell {\n",
    "    background-color: #e6d9ff;\n",
    "    border: 1px solid #d1c4e9;\n",
    "    border-radius: 10px;\n",
    "}\n",
    "\n",
    "/* Customize heading fonts */\n",
    "h1, h2, h3, h4, h5, h6 {\n",
    "    font-family: 'Verdana', sans-serif;\n",
    "    color: #6a0dad;\n",
    "}\n",
    "\n",
    "/* Change text color */\n",
    "p {\n",
    "    color: #4c3575;\n",
    "    font-family: 'Arial', sans-serif;\n",
    "}\n",
    "\n",
    "/* Style for the output */\n",
    "div.output {\n",
    "    background-color: #e8d7ff;\n",
    "    border: 1px solid #c3aed6;\n",
    "    border-radius: 5px;\n",
    "    color: #333;\n",
    "    padding: 10px;\n",
    "}\n",
    "\n",
    "/* Style for practice problems */\n",
    "h2 {\n",
    "    color: #5d3fd3;\n",
    "}\n",
    "\n",
    "pre, code {\n",
    "    background-color: #f3e8ff;\n",
    "    color: #6a0dad;\n",
    "    border: 1px solid #d1c4e9;\n",
    "    padding: 5px;\n",
    "    border-radius: 5px;\n",
    "}\n",
    "</style>\n",
    "\"\"\"\n",
    "\n",
    "# Display the custom styles in the notebook\n",
    "HTML(style)\n"
   ]
  }
 ],
 "metadata": {
  "kernelspec": {
   "display_name": "venv",
   "language": "python",
   "name": "python3"
  },
  "language_info": {
   "codemirror_mode": {
    "name": "ipython",
    "version": 3
   },
   "file_extension": ".py",
   "mimetype": "text/x-python",
   "name": "python",
   "nbconvert_exporter": "python",
   "pygments_lexer": "ipython3",
   "version": "3.12.7"
  }
 },
 "nbformat": 4,
 "nbformat_minor": 2
}
