{
 "cells": [
  {
   "cell_type": "raw",
   "metadata": {
    "vscode": {
     "languageId": "raw"
    }
   },
   "source": [
    "---\n",
    "toc: false\n",
    "comments: true\n",
    "layout: post\n",
    "title: 3.8 Breaking Loops\n",
    "description: Learn to break loops using conditional statements\n",
    "permalink: /csp/big-idea/p3/3-8-8\n",
    "categories: [CSP Big Ideas]\n",
    "author:  Nikhil, Hithin, Armaghan, Elliot\n",
    "menu: nav/csp_units/csp_unit3_p3_fundamentals.html\n",
    "---"
   ]
  },
  {
   "cell_type": "markdown",
   "metadata": {},
   "source": [
    "## Basic Overview:\n",
    "This lesson introduces the use of `break` and `continue` in loops to control the flow of iteration. The `break` statement is used to exit a loop prematurely when a specific condition is met, while the `continue` statement skips over certain iterations without terminating the loop. The lesson also covers handling errors in loops, such as division by zero or operations on incompatible data types, using `try` and `except` blocks.\n"
   ]
  },
  {
   "cell_type": "markdown",
   "metadata": {},
   "source": [
    "# Basic o"
   ]
  },
  {
   "cell_type": "code",
   "execution_count": 5,
   "metadata": {},
   "outputs": [
    {
     "name": "stdout",
     "output_type": "stream",
     "text": [
      "1\n",
      "2\n",
      "4\n"
     ]
    }
   ],
   "source": [
    "#numbers ← [1, 2, 3, 4, 5]\n",
    "#FOR EACH num IN numbers:\n",
    " \n",
    "#    IF num EQUALS 3:\n",
    "#        CONTINUE\n",
    "#    IF num EQUALS 5:\n",
    "#       BREAK \n",
    "#    DISPLAY num\n",
    "#END FOR\n",
    "\n",
    "\n",
    "# Example 8: For loop with continue and break\n",
    "numbers = [1, 2, 3, 4, 5]\n",
    "for num in numbers:\n",
    "    if num == 3:\n",
    "        continue  # Skip the number 3\n",
    "    if num == 5:\n",
    "        break  # Exit the loop when 5 is encountered\n",
    "    print(num)"
   ]
  },
  {
   "cell_type": "code",
   "execution_count": 6,
   "metadata": {},
   "outputs": [
    {
     "name": "stdout",
     "output_type": "stream",
     "text": [
      "10.0\n",
      "5.0\n",
      "Type error\n",
      "2.5\n",
      "Division by zero\n",
      "Type error\n"
     ]
    }
   ],
   "source": [
    "# APCSP Pseudo-Code: Handling Errors in a For Loop\n",
    "\n",
    "#numbers ← [1, 2, \"three\", 4, 0, \"five\"]\n",
    "#FOR EACH item IN numbers:\n",
    "#    TRY:\n",
    "#        DISPLAY 10 / item\n",
    "#    CATCH ZeroDivisionError:\n",
    "#        DISPLAY \"Division by zero\"\n",
    "#    CATCH TypeError:\n",
    "#        DISPLAY \"Type error\"\n",
    "#    END TRY\n",
    "#END FOR\n",
    "\n",
    "\n",
    "numbers = [1, 2, \"three\", 4, 0, \"five\"]\n",
    "\n",
    "for item in numbers:\n",
    "    try:\n",
    "        print(10 / item)\n",
    "    except ZeroDivisionError: #Type of error: Dividing by Zero\n",
    "        print(\"Division by zero\")\n",
    "    except TypeError: #Type of error: Dividing by something that isn't a number\n",
    "        print(\"Type error\")\n"
   ]
  },
  {
   "cell_type": "markdown",
   "metadata": {},
   "source": [
    "## What's Happening:\n",
    "In the first part of the code, the `for` loop iterates over the list `[1, 2, 3, 4, 5]`. The `continue` statement skips the number 3, so it doesn't get printed, and the `break` statement stops the loop when the number 5 is encountered, preventing any further iteration. As a result, only the numbers 1 and 2 are printed before the loop breaks.\n",
    "\n",
    "In the second part of the code, the `for` loop processes each element in the `numbers` list, attempting to divide 10 by each element. If the element is a number, the division occurs. If the element is 0, it triggers a `ZeroDivisionError`, and the program prints \"Division by zero.\" If the element is a string, such as \"three\" or \"five,\" it raises a `TypeError`, and the program prints \"Type error.\""
   ]
  },
  {
   "cell_type": "markdown",
   "metadata": {},
   "source": [
    "## Additional Notes:\n",
    "- **Breaking Loops**: The `break` statement allows for early exit from a loop when a specific condition is met, such as encountering a certain value in the loop.\n",
    "- **Skipping Iterations**: The `continue` statement skips the current iteration and moves to the next one, useful when you want to bypass certain values or conditions in a loop.\n",
    "- **Error Handling**: Using `try` and `except` blocks in loops ensures that even if an error occurs (e.g., division by zero or a type mismatch), the program won't crash, and the error can be handled gracefully.\n",
    "- **Common Use Cases**: `break` and `continue` are often used in cases where you want more control over the loop's flow, such as skipping unnecessary steps or stopping the loop under specific conditions. Error handling in loops is useful when processing user input or handling data from diverse sources."
   ]
  }
 ],
 "metadata": {
  "kernelspec": {
   "display_name": "Python 3",
   "language": "python",
   "name": "python3"
  },
  "language_info": {
   "codemirror_mode": {
    "name": "ipython",
    "version": 3
   },
   "file_extension": ".py",
   "mimetype": "text/x-python",
   "name": "python",
   "nbconvert_exporter": "python",
   "pygments_lexer": "ipython3",
   "version": "3.12.7"
  }
 },
 "nbformat": 4,
 "nbformat_minor": 2
}
