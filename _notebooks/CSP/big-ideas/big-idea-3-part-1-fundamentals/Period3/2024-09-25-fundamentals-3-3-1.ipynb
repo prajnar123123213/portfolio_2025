{
 "cells": [
  {
   "cell_type": "raw",
   "metadata": {
    "vscode": {
     "languageId": "raw"
    }
   },
   "source": [
    "---\n",
    "toc: false\n",
    "comments: true\n",
    "layout: post\n",
    "permalink: /csp/big-idea/p3/3-3-1\n",
    "title: 3.3 Mathematical Expressions; Mathematical Operations (Period 3)\n",
    "description: Student led teaching on  Mathematical Expressions. Learn how mathematical expressions involve using arithmetic operators (like addition, subtraction, multiplication, and division) to perform calculations\n",
    "categories: [CSP Big Ideas]\n",
    "author: Wyatt Z, Luke S\n",
    "menu: /nav/csp_units/csp_unit3_p3_fundamentals.html\n",
    "---"
   ]
  },
  {
   "cell_type": "markdown",
   "metadata": {},
   "source": [
    "# Mathematical Operations\n",
    "\n",
    "# Understanding Mathematical Operations in Code\n",
    "\n",
    "Mathematical operations are fundamental to programming, enabling us to perform calculations, manipulate data, and solve complex problems. Here’s a quick overview of how these operations work in code.\n",
    "\n",
    "## Basic Operations\n",
    "\n",
    "1. **Addition (+)**: Combines values.\n",
    "   ```python\n",
    "   result = 5 + 3  # result is 8\n",
    "    ```\n",
    "\n",
    "2. **Subtraction (-)**: Calculates the difference.\n",
    "    ```python\n",
    "    result = 10 - 4  # result is 6\n",
    "    ```\n",
    "\n",
    "3. **Multiplication (*)**: Scales a value.\n",
    "    ```python\n",
    "    result = 7 * 6  # result is 42\n",
    "    ```\n",
    "\n",
    "4. **Exponentiation (^)**: Raising a number to a power can be done using the `**` operator.\n",
    "    ```python\n",
    "    result = 2 ** 3  # result is 8\n",
    "    ```\n",
    "\n",
    "5. **Modulus (%)**: Finds the remainder of division.\n",
    "    ```python\n",
    "    result = 10 % 3  # result is 1\n",
    "    ```"
   ]
  },
  {
   "cell_type": "markdown",
   "metadata": {},
   "source": [
    "<style>\n",
    "    article {\n",
    "        background: linear-gradient(#0036ff, #00ffd3);\n",
    "        filter: drop-shadow(0 0 0.75rem gold);    \n",
    "    }\n",
    "    header {\n",
    "        z-index: 9999999\n",
    "    }\n",
    "</style>"
   ]
  }
 ],
 "metadata": {
  "kernelspec": {
   "display_name": "Python 3",
   "language": "python",
   "name": "python3"
  },
  "language_info": {
   "codemirror_mode": {
    "name": "ipython",
    "version": 3
   },
   "file_extension": ".py",
   "mimetype": "text/x-python",
   "name": "python",
   "nbconvert_exporter": "python",
   "pygments_lexer": "ipython3",
   "version": "3.10.12"
  }
 },
 "nbformat": 4,
 "nbformat_minor": 2
}
