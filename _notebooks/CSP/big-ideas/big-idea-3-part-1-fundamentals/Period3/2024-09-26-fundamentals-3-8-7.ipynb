{
 "cells": [
  {
   "cell_type": "raw",
   "metadata": {
    "vscode": {
     "languageId": "raw"
    }
   },
   "source": [
    "---\n",
    "toc: false\n",
    "comments: true\n",
    "layout: post\n",
    "title: 3.8 Iterating over a list using loops\n",
    "description: Learn how to iterate over a list/dictionary. \n",
    "permalink: /csp/big-idea/p3/3-8-7\n",
    "categories: [CSP Big Ideas]\n",
    "author:  Nikhil, Hithin, Armaghan, Elliot\n",
    "menu: nav/csp_units/csp_unit3_p3_fundamentals.html\n",
    "---"
   ]
  },
  {
   "cell_type": "markdown",
   "metadata": {},
   "source": [
    "## Basic Overview:\n",
    "- **Lists**: We loop through a list of colors, printing each color.\n",
    "- **Dictionaries**: We loop through a dictionary of fruits, where the key is the fruit name and the value is the quantity. The loop prints both the fruit name and quantity."
   ]
  },
  {
   "cell_type": "code",
   "execution_count": 1,
   "metadata": {},
   "outputs": [
    {
     "name": "stdout",
     "output_type": "stream",
     "text": [
      "red\n",
      "blue\n",
      "green\n",
      "yellow\n",
      "apple : 3\n",
      "banana : 5\n",
      "cherry : 7\n"
     ]
    }
   ],
   "source": [
    "# In programming, loops are used to iterate over collections of data, such as lists or dictionaries.\n",
    "# This allows us to perform operations on each item without manually writing repetitive code.\n",
    "# In this example, we will iterate over a list of colors and a dictionary containing fruit details.\n",
    "\n",
    "# Pseudocode:\n",
    "# colors ← [\"red\", \"blue\", \"green\", \"yellow\"]\n",
    "# FOR EACH color IN colors:\n",
    "#     DISPLAY color\n",
    "# END FOR\n",
    "\n",
    "\n",
    "# Example 1: Loop through a list of colors\n",
    "colors = [\"red\", \"blue\", \"green\", \"yellow\"]\n",
    "for color in colors:\n",
    "    print(color)  # Display each color\n",
    "\n",
    "# Example 2: Loop through a fruit dictionary\n",
    "fruits = {\"apple\": 3, \"banana\": 5, \"cherry\": 7}  # Number of each type of fruit\n",
    "for fruit, quantity in fruits.items():\n",
    "    print(fruit, \":\", quantity)  # Display each fruit and its quantity\n",
    "\n",
    "    #Problem: Looping Through a List\n",
    "    #Create a list of your three favorite foods. Write a loop to display each food item in the list.\n",
    "\n",
    "    "
   ]
  },
  {
   "cell_type": "markdown",
   "metadata": {},
   "source": [
    "## What's Happening:\n",
    "In the first example, the `for` loop iterates over each element in the `colors` list. The loop goes through the list one by one, and each color is printed to the console. The loop ends after all the colors (\"red,\" \"blue,\" \"green,\" and \"yellow\") are displayed.\n",
    "\n",
    "In the second example, the `for` loop iterates over the key-value pairs in the `fruits` dictionary using the `.items()` method. The loop prints the fruit name (key) along with its quantity (value). For each fruit in the dictionary—apple, banana, and cherry—the loop prints the name of the fruit followed by its quantity, such as \"apple: 3\" and so on."
   ]
  },
  {
   "cell_type": "markdown",
   "metadata": {},
   "source": [
    "<script src=\"https://utteranc.es/client.js\"\n",
    "        repo=\"nikhilsna/Sprint2_2025\"\n",
    "        issue-term=\"pathname\"\n",
    "        theme=\"github-light\"\n",
    "        crossorigin=\"anonymous\"\n",
    "        async>\n",
    "</script>"
   ]
  },
  {
   "cell_type": "markdown",
   "metadata": {},
   "source": [
    "## Additional Notes:\n",
    "- **List Iteration**: Using a `for` loop allows us to access and perform actions on each element in a list. This is useful when you have a collection of similar data, like colors or items in a store.\n",
    "- **Dictionary Iteration**: In a dictionary, a `for` loop iterates over key-value pairs using `.items()`. This is particularly useful for tasks where you need to manage related data, such as inventory lists (fruit and quantity).\n",
    "- **Use Cases**: Looping over collections like lists and dictionaries is common in scenarios where you need to analyze data, summarize content, or automate tasks that involve processing multiple items."
   ]
  }
 ],
 "metadata": {
  "kernelspec": {
   "display_name": "base",
   "language": "python",
   "name": "python3"
  },
  "language_info": {
   "codemirror_mode": {
    "name": "ipython",
    "version": 3
   },
   "file_extension": ".py",
   "mimetype": "text/x-python",
   "name": "python",
   "nbconvert_exporter": "python",
   "pygments_lexer": "ipython3",
   "version": "3.12.7"
  }
 },
 "nbformat": 4,
 "nbformat_minor": 2
}
