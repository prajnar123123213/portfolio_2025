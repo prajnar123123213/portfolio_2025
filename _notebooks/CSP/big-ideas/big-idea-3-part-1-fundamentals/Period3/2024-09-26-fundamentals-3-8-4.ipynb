{
 "cells": [
  {
   "cell_type": "raw",
   "metadata": {
    "vscode": {
     "languageId": "raw"
    }
   },
   "source": [
    "---\n",
    "toc: false\n",
    "comments: true\n",
    "layout: post\n",
    "title: 3.8 While Loops\n",
    "description: Learn to use while loops to repeat code\n",
    "permalink: /csp/big-idea/p3/3-8-4\n",
    "categories: [CSP Big Ideas]\n",
    "author: Nikhil\n",
    "menu: nav/csp_units/csp_unit3_p3_fundamentals.html\n",
    "---"
   ]
  },
  {
   "cell_type": "markdown",
   "metadata": {},
   "source": [
    "# Basic Overview:\n",
    "- A **while loop** is a control structure that repeatedly executes a block of code as long as a specified condition remains true.\n",
    "- This type of loop is particularly useful for tasks like counting, accumulating values, or continuing until a particular condition is met.\n",
    "- In this lesson, the while loop is demonstrated to display a message with a count from 1 to 3."
   ]
  },
  {
   "cell_type": "code",
   "execution_count": 1,
   "metadata": {},
   "outputs": [
    {
     "name": "stdout",
     "output_type": "stream",
     "text": [
      "This is message number 1\n",
      "This is message number 2\n",
      "This is message number 3\n"
     ]
    }
   ],
   "source": [
    "# In this example, we will use a while loop to display letters from 'A' to 'E' and calculate their corresponding ASCII values.\n",
    "\n",
    "# Pseudocode:\n",
    "# count ← 1\n",
    "# WHILE count IS LESS THAN OR EQUAL TO 3:\n",
    "#     DISPLAY \"This is message number\" count\n",
    "#     count ← count + 1\n",
    "# END WHILE\n",
    "\n",
    "\n",
    "# Python Code:\n",
    "count = 1  # Start counting from 1\n",
    "while count <= 3:  # Continue while count is 3 or less\n",
    "    print(\"This is message number\", count)  # Display the current message number\n",
    "    count += 1  # Increment count by 1\n",
    "\n",
    "#Problem: Infinite Loop with a While Statement\n",
    "#Write a while loop that continuously prints \"Hello, World!\" until you stop the program.\n"
   ]
  },
  {
   "cell_type": "markdown",
   "metadata": {},
   "source": [
    "# What's Happening:\n",
    "- We start with the variable **count** set to 1.\n",
    "- The loop checks if **count** is less than or equal to 3, and as long as this condition is true, the code inside the loop runs.\n",
    "- On each iteration, the current message number is printed, and **count** is incremented by 1.\n",
    "- Once **count** exceeds 3, the condition becomes false, and the loop terminates."
   ]
  },
  {
   "cell_type": "markdown",
   "metadata": {},
   "source": [
    "# Additional Notes:\n",
    "- **Infinite Loops:** Care must be taken to ensure that the condition in the loop will eventually become false; otherwise, it could result in an infinite loop that never stops.\n",
    "- **Practical Use Cases:** While loops are great for situations where the number of iterations isn't known ahead of time, like reading data until the end of a file or waiting for specific user input.\n",
    "- **Common Pitfall:** A common mistake is forgetting to update the loop control variable (like **count** in this case), which can cause an infinite loop if the condition never becomes false."
   ]
  }
 ],
 "metadata": {
  "kernelspec": {
   "display_name": "base",
   "language": "python",
   "name": "python3"
  },
  "language_info": {
   "codemirror_mode": {
    "name": "ipython",
    "version": 3
   },
   "file_extension": ".py",
   "mimetype": "text/x-python",
   "name": "python",
   "nbconvert_exporter": "python",
   "pygments_lexer": "ipython3",
   "version": "3.12.7"
  }
 },
 "nbformat": 4,
 "nbformat_minor": 2
}
