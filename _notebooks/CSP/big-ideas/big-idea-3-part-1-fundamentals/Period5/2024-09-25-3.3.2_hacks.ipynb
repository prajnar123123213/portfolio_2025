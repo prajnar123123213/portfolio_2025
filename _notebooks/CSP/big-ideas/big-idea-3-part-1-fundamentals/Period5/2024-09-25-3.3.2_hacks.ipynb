{
 "cells": [
  {
   "cell_type": "raw",
   "id": "2a07ae5e",
   "metadata": {
    "vscode": {
     "languageId": "raw"
    }
   },
   "source": [
    "---\n",
    "comments: true\n",
    "layout: post\n",
    "title: 3.3 Mathematical Operations\n",
    "description: Learn the different types of Mathematical Operations \n",
    "permalink: csp/big-idea/p5/3-3-2\n",
    "categories: [CSP Big Ideas]\n",
    "author: Ahmad, Soumini, Kush, Nikith\n",
    "menu: nav/csp_units/csp_unit3_p5_fundamentals.html\n",
    "---"
   ]
  },
  {
   "cell_type": "markdown",
   "id": "d136d47b",
   "metadata": {
    "vscode": {
     "languageId": "plaintext"
    }
   },
   "source": [
    "# <b>Hacks</b>\n",
    "- Create an algorithm that adds 2 set variables together, then it divides that number by 4, then prints that number\n",
    "\n",
    "### Python version\n",
    "- The python code down below follows a specific order. First the computer will register num1 as 5 and num2 as 11. Then it will print num1 and then num2.\n",
    "```python\n",
    "num1 = 5\n",
    "num2 = 11\n",
    "print(num1)             \n",
    "print([num1 + num2] / 4) \n",
    "```\n",
    "\n",
    "### Javascript version\n",
    "- The Javascript code below does the exact same thing as the python example above.\n",
    "```javascript\n",
    "let num1 = 5;\n",
    "let num2 = 11;\n",
    "console.log(num1)\n",
    "console.log([num1 + num2] / 4)\n",
    "```\n"
   ]
  },
  {
   "cell_type": "markdown",
   "id": "0140b7d4",
   "metadata": {},
   "source": [
    "# <b>Hacks</b>\n",
    "\n",
    "- Create an algorithm that multiplies two values together and then takes the mod of those two values when divided.\n",
    "Python Version:\n",
    "```python\n",
    "numb1 = 12\n",
    "numb2 = 8\n",
    "\n",
    "product = numb1 * numb2\n",
    "print(\"Product:\", product)\n",
    "modulus = product % numb2\n",
    "print(\"Modulus:\", modulus)\n",
    "```\n",
    "\n",
    "Javascript Version:\n",
    "```javascript\n",
    "let numb1 = 12\n",
    "let numb2 = 8\n",
    "let product = numb1 * numb2\n",
    "console.log(\"Product:\", product)\n",
    "modulus = product % numb2\n",
    "console.log(\"Modulus:\", modulus)\n",
    "```\n",
    "\n",
    "\n"
   ]
  },
  {
   "cell_type": "markdown",
   "id": "866dcda6",
   "metadata": {
    "vscode": {
     "languageId": "plaintext"
    }
   },
   "source": [
    "# <b>Hacks</b>\n",
    "- Make a algorithm that adds whatever 2 numbers the user inputs, have fun\n",
    "Python version:\n",
    "\n",
    "```python\n",
    "x=4\n",
    "y=5\n",
    "print(x+y)\n",
    "```"
   ]
  },
  {
   "cell_type": "markdown",
   "id": "1cab0772",
   "metadata": {},
   "source": [
    "Javascript Version\n",
    "```javascript\n",
    "var x=4;\n",
    "var y=5;\n",
    "console.log(x + y)\n",
    "```"
   ]
  },
  {
   "cell_type": "markdown",
   "id": "9f690c09",
   "metadata": {},
   "source": [
    " **Homework**             | **Weightage** | **Grade** | **Comments** |\n",
    "|-------------------------|---------------|-----------|--------------|\n",
    "| Hack 1      | 22.5            | TBD     | TBD          |           \n",
    "| Hack 2 | 22.5            | TBD     | TBD          |\n",
    "| Hack 3 | 22.5            | TBD     | TBD          |\n",
    "| Hack 4    | 22.5            | TBD     | TBD          |\n",
    "| **Total** |  0.9            | **90**        |           |              |"
   ]
  },
  {
   "cell_type": "markdown",
   "id": "eae2ecac",
   "metadata": {},
   "source": [
    "<script src=\"https://utteranc.es/client.js\"\n",
    "        repo=\"nighthawkcoders/portfolio_2025\"\n",
    "        issue-term=\"title\"\n",
    "        label=\"blogpost-comment\"\n",
    "        theme=\"github-light\"\n",
    "        crossorigin=\"anonymous\"\n",
    "        async>\n",
    "</script>"
   ]
  }
 ],
 "metadata": {
  "kernelspec": {
   "display_name": "Python 3 (ipykernel)",
   "language": "python",
   "name": "python3"
  },
  "language_info": {
   "codemirror_mode": {
    "name": "ipython",
    "version": 3
   },
   "file_extension": ".py",
   "mimetype": "text/x-python",
   "name": "python",
   "nbconvert_exporter": "python",
   "pygments_lexer": "ipython3",
   "version": "3.10.12"
  }
 },
 "nbformat": 4,
 "nbformat_minor": 5
}
