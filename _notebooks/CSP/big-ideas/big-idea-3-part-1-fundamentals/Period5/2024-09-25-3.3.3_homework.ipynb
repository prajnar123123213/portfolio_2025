{
 "cells": [
  {
   "cell_type": "raw",
   "id": "2a07ae5e",
   "metadata": {
    "vscode": {
     "languageId": "raw"
    }
   },
   "source": [
    "---\n",
    "comments: true\n",
    "layout: post\n",
    "title: 3.3 Mathematical Operations\n",
    "description: Learn the different types of Mathematical Operations \n",
    "permalink: csp/big-idea/p5/3-3-3\n",
    "categories: [CSP Big Ideas]\n",
    "author: Ahmad, Soumini, Kush, Nikith\n",
    "menu: nav/csp_units/csp_unit3_p5_fundamentals.html\n",
    "---"
   ]
  },
  {
   "cell_type": "markdown",
   "id": "8ba9e47f",
   "metadata": {},
   "source": [
    "<html>\n",
    "<a href=\"https://forms.gle/qYqfBbseu1692xdU8\">Optional Quiz</a>"
   ]
  },
  {
   "cell_type": "markdown",
   "id": "b67575ea",
   "metadata": {},
   "source": [
    "# <b>Homework</b>\n",
    "- Create a calculator that takes in 2 numbers and adds, subracts, divides, or multiplies based on the input given."
   ]
  },
  {
   "cell_type": "markdown",
   "id": "2d72e5b8",
   "metadata": {},
   "source": [
    "# <b>Grading<b>\n",
    "- 15% for each hack\n",
    "- The homework is 55%"
   ]
  },
  {
   "cell_type": "markdown",
   "id": "0f923900",
   "metadata": {
    "vscode": {
     "languageId": "raw"
    }
   },
   "source": [
    " **Homework**             | **Weightage** | **Grade** | **Comments** |\n",
    "|-------------------------|---------------|-----------|--------------|\n",
    "| Adding the numbers      | 22.5            | TBD     | TBD          |           \n",
    "| Subtracting the numbers | 22.5            | TBD     | TBD          |\n",
    "| Multiplying the numbers | 22.5            | TBD     | TBD          |\n",
    "| Dividing the numbers    | 22.5            | TBD     | TBD          |\n",
    "| **Total**               | **90**        |           |              |"
   ]
  },
  {
   "cell_type": "markdown",
   "id": "eae2ecac",
   "metadata": {},
   "source": [
    "<script src=\"https://utteranc.es/client.js\"\n",
    "        repo=\"nighthawkcoders/portfolio_2025\"\n",
    "        issue-term=\"title\"\n",
    "        label=\"blogpost-comment\"\n",
    "        theme=\"github-light\"\n",
    "        crossorigin=\"anonymous\"\n",
    "        async>\n",
    "</script>"
   ]
  }
 ],
 "metadata": {
  "kernelspec": {
   "display_name": "Python 3 (ipykernel)",
   "language": "python",
   "name": "python3"
  },
  "language_info": {
   "codemirror_mode": {
    "name": "ipython",
    "version": 3
   },
   "file_extension": ".py",
   "mimetype": "text/x-python",
   "name": "python",
   "nbconvert_exporter": "python",
   "pygments_lexer": "ipython3",
   "version": "3.10.12"
  }
 },
 "nbformat": 4,
 "nbformat_minor": 5
}
