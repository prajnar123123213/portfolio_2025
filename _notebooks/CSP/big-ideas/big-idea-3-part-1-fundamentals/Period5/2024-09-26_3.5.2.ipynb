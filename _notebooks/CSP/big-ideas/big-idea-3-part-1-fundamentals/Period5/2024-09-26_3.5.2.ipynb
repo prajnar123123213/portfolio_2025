{
 "cells": [
  {
   "cell_type": "raw",
   "id": "de7d1dc6",
   "metadata": {
    "vscode": {
     "languageId": "raw"
    }
   },
   "source": [
    "---\n",
    "toc: false\n",
    "comments: true\n",
    "layout: post\n",
    "title: 3.5 Logical Operators \n",
    "description: Learn Logical Operators in Booleans \n",
    "permalink: csp/big-idea/p5/3-5-2\n",
    "categories: [CSP Big Ideas]\n",
    "author: Ahmad, Soumini, Kush, Nikith\n",
    "menu: nav/csp_units/csp_unit3_p5_fundamentals.html\n",
    "---"
   ]
  },
  {
   "cell_type": "markdown",
   "id": "a0061364",
   "metadata": {
    "vscode": {
     "languageId": "plaintext"
    }
   },
   "source": [
    "## <b>Logical Operators</b>\n",
    "\n",
    "These are used to test multiple conditions to produce a single Boolean value.\n",
    "\n",
    "- AND(&& or \"and\"): Returns true if both conditions are true. If either condition is false or if both are false, it returns false.\n",
    "- OR(\"||\" or \"or\"): Returns true if at least one condition is true. If both conditions are false, it returns false\n",
    "- NOT(! or \"not\"): If the condition is false, then it returns true. If the operand is true, then it returns false."
   ]
  },
  {
   "cell_type": "markdown",
   "id": "293f3f51",
   "metadata": {},
   "source": [
    "# <b>More Hacks! (Both python and javascript)</b>\n",
    "\n",
    "\n",
    "## Example 1: Temperature Check\n",
    "Example 1: Going with a temperature example, use logical operators to test whether the temperature is comfortable or not. \n",
    "\n",
    "Javascript Version: \n",
    "```javascript\n",
    "let temperature = 43;\n",
    "\n",
    "// Boolean expressions\n",
    "let comfortable = temperature < 83 && temperature > 63;\n",
    "let notComfortable = temperature < 63 || temperature > 83;\n",
    "\n",
    "if (comfortable) {\n",
    "    console.log(\"It is a comfortable temperature\");\n",
    "} else if (notComfortable) {\n",
    "    console.log(\"It is not a comfortable temperature\");\n",
    "}\n",
    "```\n",
    "\n",
    "Python Version: \n",
    "```python\n",
    "## Example 1: Temperature Check\n",
    "temperature = 43 \n",
    "\n",
    "# Boolean expressions\n",
    "comfortable = temperature < 83 and temperature > 63\n",
    "not_comfortable = temperature < 63 or temperature > 83\n",
    "\n",
    "if comfortable: \n",
    "    print(\"It is a comfortable temperature\")\n",
    "elif not_comfortable:\n",
    "    print(\"It is not a comfortable temperature\")\n",
    "```\n",
    "\n",
    "\n",
    "## Example #2: You want to test if someone is authorized to enter a building or not. \n",
    "Javascript Version: \n",
    "```javascript\n",
    "// Define user status\n",
    "let isAuthorized = false;  // Change this to true to test authorized access\n",
    "\n",
    "// Use NOT to determine access\n",
    "let canEnter = !isAuthorized;\n",
    "\n",
    "// Output the result\n",
    "console.log(canEnter ? \"Access granted!\" : \"Access denied!\");\n",
    "```\n",
    "\n",
    "Python Version: \n",
    "```python\n",
    "# Define user status\n",
    "is_authorized = False  # Change this to True to test authorized access\n",
    "\n",
    "# Use NOT to determine access\n",
    "can_enter = not is_authorized\n",
    "\n",
    "# Output the result\n",
    "print(\"Access granted!\" if can_enter else \"Access denied!\")\n",
    "```\n",
    "\n",
    "\n"
   ]
  },
  {
   "cell_type": "markdown",
   "id": "9251dc9d",
   "metadata": {},
   "source": [
    "# <b>Homework Hacks</b>\n",
    "1. Create a portion of a cookie clicker game that says you win or lose based on the number of cookies you have OR the number of workers you have. Use relational and logical operators to do this. Have fun!\n",
    "2. Create a truth table. A truth table typically lists all possible combinations of truth values (True and False) for a given number of variables and their corresponding outputs for various logical operations.\n"
   ]
  },
  {
   "cell_type": "markdown",
   "id": "ae660aec",
   "metadata": {
    "vscode": {
     "languageId": "raw"
    }
   },
   "source": [
    "# Grading \n",
    "Use this rubric to grade. Ratio is 1-4\n",
    "1: 0.25\n",
    "2: 0.50\n",
    "3: 0.75\n",
    "4: 0.90\n",
    "\n",
    "| **Name**                | **Weightage** | **Grade** |\n",
    "|-------------------------|---------------|-----------|\n",
    "| Hack 1                  | 15%           |           |\n",
    "| Hack 2                  | 5%            |           |\n",
    "| Hack 3                  | 10%           |           |\n",
    "| Homework                | 55%           |           |\n",
    "\n"
   ]
  },
  {
   "cell_type": "markdown",
   "id": "3e5c81a8",
   "metadata": {},
   "source": [
    "<script src=\"https://utteranc.es/client.js\"\n",
    "        repo=\"nighthawkcoders/portfolio_2025\"\n",
    "        issue-term=\"title\"\n",
    "        label=\"blogpost-comment\"\n",
    "        theme=\"github-light\"\n",
    "        crossorigin=\"anonymous\"\n",
    "        async>\n",
    "</script>"
   ]
  },
  {
   "cell_type": "markdown",
   "id": "a055f66f",
   "metadata": {},
   "source": [
    "\n",
    "## <b>3.5 Booleans Quiz</b >\n",
    "\n",
    "\n",
    "<a href=\"[google.com](https://docs.google.com/forms/d/e/1FAIpQLSfz11_mze3XF1TCQS4CU0h50wSmHVojsTjycjs-g0XGNpmenA/viewform?usp=pp_url&entry.1691669051=x%3Ey&entry.268283182=x+%3D%3D+y+(equals)&entry.1088479226=!)\">Boolean Quiz</a>"
   ]
  }
 ],
 "metadata": {
  "kernelspec": {
   "display_name": "Python 3 (ipykernel)",
   "language": "python",
   "name": "python3"
  },
  "language_info": {
   "codemirror_mode": {
    "name": "ipython",
    "version": 3
   },
   "file_extension": ".py",
   "mimetype": "text/x-python",
   "name": "python",
   "nbconvert_exporter": "python",
   "pygments_lexer": "ipython3",
   "version": "3.10.12"
  }
 },
 "nbformat": 4,
 "nbformat_minor": 5
}
